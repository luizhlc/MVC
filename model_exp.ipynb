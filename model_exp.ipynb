{
 "cells": [
  {
   "cell_type": "code",
   "execution_count": 1,
   "id": "f1dd500e-62b9-4cf1-aeb3-fc6b1a64d895",
   "metadata": {
    "tags": []
   },
   "outputs": [],
   "source": [
    "!export CUDA_VISIBLE_DEVICES=\"0\""
   ]
  },
  {
   "cell_type": "code",
   "execution_count": 2,
   "id": "de1f08db-f346-47ef-897a-f7378d531f80",
   "metadata": {
    "tags": []
   },
   "outputs": [],
   "source": [
    "import torch\n",
    "import numpy as np\n",
    "from torchvision import datasets\n",
    "import torchvision.transforms as transforms\n",
    "from torch.utils.data.sampler import SubsetRandomSampler\n",
    "import torch.nn as nn\n",
    "import torch.nn.functional as Fn\n",
    "import matplotlib.pyplot as plt\n",
    "import pandas as pd\n",
    "from torch.utils.data import Dataset\n",
    "from tqdm.notebook import tqdm"
   ]
  },
  {
   "cell_type": "code",
   "execution_count": 3,
   "id": "65be441c-b2da-4705-8473-d29614f4e13c",
   "metadata": {
    "tags": []
   },
   "outputs": [],
   "source": [
    "class CustomDataSet(Dataset):\n",
    "    def __init__(self, csv_file):\n",
    "        self.classes_k = {'Classe A':0,'Classe B':1, 'Classe C':2,'Classe D':3,'Classe E':4}\n",
    "        self.df = pd.read_csv(csv_file)\n",
    "        self.df = self.df.drop(['s0_gRMS', 's1_gRMS', 's2_gRMS'], axis=1)\n",
    "    def __len__(self):\n",
    "        return self.df.shape[0]\n",
    "\n",
    "    def __getitem__(self, index):\n",
    "        label = self.classes_k[self.df.loc[index]['Classe']]\n",
    "        # target = torch.zeros(5)\n",
    "        # target[int(label)]=1.0\n",
    "        data = torch.tensor(self.df.loc[index][2:])\n",
    "        return data, label\n",
    "dataset = CustomDataSet(\"./features_norm.csv\")"
   ]
  },
  {
   "cell_type": "code",
   "execution_count": 4,
   "id": "bf117978-040f-4a86-9f1e-8d6f174933a4",
   "metadata": {
    "tags": []
   },
   "outputs": [],
   "source": [
    "batch_size = 16\n",
    "validation_split = .3\n",
    "shuffle_dataset = True\n",
    "random_seed= 42\n",
    "num_epochs = 200\n",
    "in_features = 308\n",
    "out_classes = 5"
   ]
  },
  {
   "cell_type": "code",
   "execution_count": 5,
   "id": "1c4c98bd-764b-4863-9803-06aec0aa4e6b",
   "metadata": {
    "tags": []
   },
   "outputs": [
    {
     "name": "stdout",
     "output_type": "stream",
     "text": [
      "308\n"
     ]
    }
   ],
   "source": [
    "print(len(dataset[0][0]))"
   ]
  },
  {
   "cell_type": "code",
   "execution_count": 6,
   "id": "8b796d9f-4fb5-48ff-98ee-f47ccfa09f04",
   "metadata": {
    "tags": []
   },
   "outputs": [],
   "source": [
    "dataset_size = len(dataset)\n",
    "indices = list(range(dataset_size))\n",
    "split = int(np.floor(validation_split * dataset_size))\n",
    "if shuffle_dataset :\n",
    "    np.random.seed(random_seed)\n",
    "    np.random.shuffle(indices)\n",
    "train_indices, val_indices = indices[split:], indices[:split]\n",
    "train_sampler = SubsetRandomSampler(train_indices)\n",
    "valid_sampler = SubsetRandomSampler(val_indices)\n",
    "train_loader = torch.utils.data.DataLoader(dataset, batch_size=batch_size, \n",
    "                                           sampler=train_sampler)\n",
    "validation_loader = torch.utils.data.DataLoader(dataset, batch_size=1,\n",
    "                                                sampler=valid_sampler)"
   ]
  },
  {
   "cell_type": "code",
   "execution_count": 7,
   "id": "bbed6f23-e896-4173-bdbb-d91c1872a83b",
   "metadata": {
    "tags": []
   },
   "outputs": [],
   "source": [
    "class neuNet(nn.Module):\n",
    "    def __init__(self, in_features, out_classes):\n",
    "        super(neuNet,self).__init__()\n",
    "        ## This is the number of hidden nodes in each layer (512)\n",
    "        hidden_1 = 512\n",
    "        hidden_2 = 512\n",
    "        ## This is the linear layer (784 -> hidden_1)\n",
    "        self.fc1 = nn.Linear(in_features, 128)\n",
    "        ## This is also linear layer but (n_hidden -> hidden_2)\n",
    "        self.fc2 = nn.Linear(128,128)\n",
    "        self.fc3 = nn.Linear(128,128)\n",
    "        ##This is the linear layer with (n_hidden -> 10)\n",
    "        self.fc4 = nn.Linear(128,out_classes)\n",
    "        #The dropout layer (p=0.2)\n",
    "        #Also the dropout prevents overfitting of data\n",
    "        self.droput = nn.Dropout(0.2)\n",
    "\n",
    "    def forward(self,x):\n",
    "      ## adding the hidden layer, for activation we are using relu activation\n",
    "        # print(sum(torch.isnan(x)))\n",
    "        x = Fn.relu(self.fc1(x))\n",
    "      ## adding the dropout layer\n",
    "        # x = self.droput(x)\n",
    "      ## adding the hidden layer, for activation we are using relu activation\n",
    "        x = Fn.relu(self.fc2(x))\n",
    "        x = Fn.relu(self.fc3(x))\n",
    "      ## adding the dropout layer\n",
    "        # x = self.droput(x)\n",
    "      ## adding the output layer\n",
    "        \n",
    "        x = Fn.softmax(self.fc4(x), dim=1)\n",
    "        print(x)\n",
    "        return x\n",
    "MLP_model = neuNet(in_features, out_classes)"
   ]
  },
  {
   "cell_type": "code",
   "execution_count": 8,
   "id": "c4f277c4-d845-417f-bb86-a5b52cf3bbf6",
   "metadata": {
    "tags": []
   },
   "outputs": [],
   "source": [
    "class SimpleMLP(nn.Module):\n",
    "    def __init__(self):\n",
    "        super().__init__()\n",
    "        self.layers = nn.Sequential(\n",
    "            nn.Linear(308, 128),\n",
    "            nn.ReLU(),\n",
    "            nn.Linear(128, 64),\n",
    "            nn.ReLU(),\n",
    "            nn.Linear(64, 5)\n",
    "        )\n",
    "\n",
    "    def forward(self, x):\n",
    "        return self.layers(x)\n",
    "MLP_model = SimpleMLP().double()"
   ]
  },
  {
   "cell_type": "code",
   "execution_count": 9,
   "id": "d51269dc-9fd7-4896-85ee-cfb61413212e",
   "metadata": {
    "tags": []
   },
   "outputs": [],
   "source": [
    "# for param in MLP_model.parameters():\n",
    "#     print(param)"
   ]
  },
  {
   "cell_type": "code",
   "execution_count": 10,
   "id": "35f88378-10a7-491a-a70c-248ed44bac3f",
   "metadata": {
    "tags": []
   },
   "outputs": [],
   "source": [
    "learning_rate = 0.1\n",
    "MLP_criterion = nn.CrossEntropyLoss()#BCEWithLogitsLoss\n",
    "Model_optimizer = torch.optim.Adam(MLP_model.parameters())"
   ]
  },
  {
   "cell_type": "code",
   "execution_count": null,
   "id": "bc7a3ac9-7eaf-40d7-94fb-0719fb9f37c7",
   "metadata": {
    "tags": []
   },
   "outputs": [
    {
     "data": {
      "application/json": {
       "ascii": false,
       "bar_format": null,
       "colour": null,
       "elapsed": 0.008898019790649414,
       "initial": 0,
       "n": 0,
       "ncols": null,
       "nrows": 50,
       "postfix": null,
       "prefix": "",
       "rate": null,
       "total": 100,
       "unit": "it",
       "unit_divisor": 1000,
       "unit_scale": false
      },
      "application/vnd.jupyter.widget-view+json": {
       "model_id": "ab6ee37c405f4eae8ddcdf740177389c",
       "version_major": 2,
       "version_minor": 0
      },
      "text/plain": [
       "  0%|          | 0/100 [00:00<?, ?it/s]"
      ]
     },
     "metadata": {},
     "output_type": "display_data"
    },
    {
     "data": {
      "application/json": {
       "ascii": false,
       "bar_format": null,
       "colour": null,
       "elapsed": 0.007230043411254883,
       "initial": 0,
       "n": 0,
       "ncols": null,
       "nrows": 50,
       "postfix": null,
       "prefix": "",
       "rate": null,
       "total": null,
       "unit": "it",
       "unit_divisor": 1000,
       "unit_scale": false
      },
      "application/vnd.jupyter.widget-view+json": {
       "model_id": "3ab03b0e2b52442f89ac13921ebca956",
       "version_major": 2,
       "version_minor": 0
      },
      "text/plain": [
       "0it [00:00, ?it/s]"
      ]
     },
     "metadata": {},
     "output_type": "display_data"
    },
    {
     "name": "stderr",
     "output_type": "stream",
     "text": [
      "/home/luizhlc/anaconda3/envs/theseus_nn/lib/python3.7/site-packages/torch/autograd/__init__.py:132: UserWarning: CUDA initialization: Found no NVIDIA driver on your system. Please check that you have an NVIDIA GPU and installed a driver from http://www.nvidia.com/Download/index.aspx (Triggered internally at  /opt/conda/conda-bld/pytorch_1607370156314/work/c10/cuda/CUDAFunctions.cpp:100.)\n",
      "  allow_unreachable=True)  # allow_unreachable flag\n"
     ]
    }
   ],
   "source": [
    "train_losses = []\n",
    "train_acc = []\n",
    "val_loss = []\n",
    "val_acc = []\n",
    "best_loss = 100\n",
    "for epoch in tqdm(range(100)): # monitoring the losses\n",
    "    training_loss = 0\n",
    "    validation_loss = 0\n",
    "    train_correct = 0\n",
    "    correct = 0\n",
    "    MLP_model.train() ## here we are preparing the model for training\n",
    "    for batch_idx, (data,label) in tqdm(enumerate(train_loader), leave=False):\n",
    "        Model_optimizer.zero_grad() ## Clearing the gradients or we can say making gradients to zero of all the optimized variables\n",
    "        output = MLP_model(data)\n",
    "        loss = MLP_criterion(output,label) ## Calculating the loss\n",
    "        loss.backward() ## backward pass, Computing the gradient of the loss w.r.t the parameters of the model\n",
    "        Model_optimizer.step() ## a single step of optimization\n",
    "        training_loss += loss.item() * data.size(0) ## updating the running training loss\n",
    "        predicted_class = output.argmax(1)\n",
    "        correct_ones = (predicted_class == label).type(torch.float)\n",
    "        train_correct += correct_ones.sum().item()\n",
    "        # if batch_idx%800 ==0:\n",
    "        #     # print(output)\n",
    "        #     print(f'Train Epoch: {epoch} b{batch_idx}\\tLoss {training_loss/(data.size(0)*(batch_idx+1)):.6f}')\n",
    "    print(f'train_correct = {100*train_correct/len(train_sampler)}')\n",
    "    MLP_model.eval() ## here we are preparing the model for evaluation\n",
    "    for data,label in tqdm(validation_loader, leave=False):\n",
    "        output = MLP_model(data) ## forward passing as in this computing the predicted outputs by passing the inputs to the model\n",
    "        loss = MLP_criterion(output,label) ## Calculating the loss\n",
    "        validation_loss += loss.item() * data.size(0) ## updating the running validation loss\n",
    "        predicted_class = output.argmax(1)\n",
    "        correct_ones = (predicted_class == label).type(torch.float)\n",
    "        correct += correct_ones.sum().item()\n",
    "        # pred_y = torch.max(torch.exp(output),1)[1].data.cpu().numpy()\n",
    "        # print(pred_y)\n",
    "        # label_y = torch.max(label,1)[1].data.cpu().numpy()\n",
    "        # correct += sum((pred_y == label_y))\n",
    "    train_losses.append(training_loss/len(train_sampler))\n",
    "    val_loss.append(validation_loss/len(valid_sampler))\n",
    "    train_acc.append(100*train_correct/len(train_sampler))\n",
    "    val_acc.append(correct * 100 /len(valid_sampler))\n",
    "    if epoch%10==0:\n",
    "        v_loss = validation_loss/len(valid_sampler)\n",
    "        print(f'e{epoch}: Train Loss: {training_loss/len(train_sampler):.04f}; Val Loss: {validation_loss/len(valid_sampler):.04f} acc: {correct * 100 /len(valid_sampler):.04f}')\n",
    "        torch.save({\n",
    "            'epoch': epoch,\n",
    "            'model_state_dict': MLP_model.state_dict(),\n",
    "            'optimizer_state_dict': Model_optimizer.state_dict(),\n",
    "            'loss': validation_loss/len(valid_sampler),\n",
    "            }, f\"./model_{epoch}.checkpoint\")\n",
    "        if v_loss < best_loss:\n",
    "            best_loss = v_loss\n",
    "            torch.save({\n",
    "                'epoch': epoch,\n",
    "                'model_state_dict': MLP_model.state_dict(),\n",
    "                'optimizer_state_dict': Model_optimizer.state_dict(),\n",
    "                'loss': validation_loss/len(valid_sampler),\n",
    "                }, f\"./model_best.checkpoint\")"
   ]
  },
  {
   "cell_type": "code",
   "execution_count": 13,
   "id": "191e3a51-6008-4dde-9ce3-3491984b152d",
   "metadata": {
    "tags": []
   },
   "outputs": [
    {
     "data": {
      "image/png": "[encoded data removed]",
      "text/plain": [
       "<Figure size 1200x700 with 2 Axes>"
      ]
     },
     "metadata": {},
     "output_type": "display_data"
    }
   ],
   "source": [
    "from sklearn.metrics import confusion_matrix\n",
    "import seaborn as sn\n",
    "import pandas as pd\n",
    "y_pred = []\n",
    "y_true = []\n",
    "testloader = torch.utils.data.DataLoader(dataset, batch_size=1,\n",
    "                                                sampler=valid_sampler)\n",
    "# iterate over test data\n",
    "for data, labels in testloader:\n",
    "    output = MLP_model(data) # Feed Network\n",
    "    y_pred.extend(output.argmax(1).data.cpu().numpy()) # Save Prediction\n",
    "    y_true.extend(labels.data.cpu().numpy()) # Save Truth\n",
    "\n",
    "# constant for classes\n",
    "classes = ('A', 'B', 'C', 'D', 'E')\n",
    "\n",
    "# # Build confusion matrix\n",
    "cf_matrix = confusion_matrix(y_true, y_pred)\n",
    "df_cm = pd.DataFrame(cf_matrix / np.sum(cf_matrix, axis=1)[:, None], index = [i for i in classes],\n",
    "                     columns = [i for i in classes])\n",
    "plt.figure(figsize = (12,7))\n",
    "sn.heatmap(df_cm, annot=True)\n",
    "plt.show()"
   ]
  },
  {
   "cell_type": "code",
   "execution_count": null,
   "id": "3a96b63f-385a-423a-b2f4-487abfd95a10",
   "metadata": {
    "tags": []
   },
   "outputs": [],
   "source": []
  }
 ],
 "metadata": {
  "kernelspec": {
   "display_name": "Python 3 (ipykernel)",
   "language": "python",
   "name": "python3"
  },
  "language_info": {
   "codemirror_mode": {
    "name": "ipython",
    "version": 3
   },
   "file_extension": ".py",
   "mimetype": "text/x-python",
   "name": "python",
   "nbconvert_exporter": "python",
   "pygments_lexer": "ipython3",
   "version": "3.10.10"
  }
 },
 "nbformat": 4,
 "nbformat_minor": 5
}
