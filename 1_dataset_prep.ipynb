{
 "cells": [
  {
   "cell_type": "code",
   "execution_count": null,
   "id": "b88eacdf-ba24-4ee7-ba27-7350667c11ff",
   "metadata": {},
   "outputs": [],
   "source": [
    "import numpy as np"
   ]
  },
  {
   "cell_type": "code",
   "execution_count": null,
   "id": "af1cd823-702b-4161-80d1-5e0ebdfe0f78",
   "metadata": {},
   "outputs": [],
   "source": [
    "classes_data = np.load('./dataset/Classes.npy', allow_pickle=True)\n",
    "n_samples = len(classes_data)"
   ]
  }
 ],
 "metadata": {
  "kernelspec": {
   "display_name": "theseus_nn",
   "language": "python",
   "name": "theseus_nn"
  },
  "language_info": {
   "codemirror_mode": {
    "name": "ipython",
    "version": 3
   },
   "file_extension": ".py",
   "mimetype": "text/x-python",
   "name": "python",
   "nbconvert_exporter": "python",
   "pygments_lexer": "ipython3",
   "version": "3.7.10"
  }
 },
 "nbformat": 4,
 "nbformat_minor": 5
}
