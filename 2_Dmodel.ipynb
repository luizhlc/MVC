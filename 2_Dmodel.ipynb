{
 "cells": [
  {
   "cell_type": "code",
   "execution_count": 1,
   "id": "11c74f63-2548-430e-9c73-5a112b85d146",
   "metadata": {},
   "outputs": [],
   "source": [
    "train_model = True"
   ]
  },
  {
   "cell_type": "code",
   "execution_count": 2,
   "id": "0fb69204-037a-437c-a943-fa0845fb624f",
   "metadata": {},
   "outputs": [],
   "source": [
    "import torch\n",
    "import numpy as np\n",
    "import torch.nn as nn\n",
    "import matplotlib.pyplot as plt\n",
    "from mls import mls\n",
    "import json"
   ]
  },
  {
   "cell_type": "code",
   "execution_count": 3,
   "id": "6da60347-cfde-45ed-a4e5-5c44b3757c26",
   "metadata": {},
   "outputs": [],
   "source": [
    "train_dataset = mls.CustomDataSet(\"./dataset/processed/train_data.csv\")\n",
    "val_dataset = mls.CustomDataSet(\"./dataset/processed/test_data.csv\")"
   ]
  },
  {
   "cell_type": "code",
   "execution_count": 4,
   "id": "ad19b82a-13d8-4778-b33d-c0524eeade33",
   "metadata": {},
   "outputs": [],
   "source": [
    "batch_size = 16\n",
    "shuffle_dataset = True\n",
    "num_epochs = 150\n",
    "in_features = len(train_dataset[0][0])\n",
    "out_classes = 5\n",
    "save_model = True\n",
    "save_interval = 10\n",
    "model_p = './checkpoints2/'"
   ]
  },
  {
   "cell_type": "code",
   "execution_count": 5,
   "id": "1e8ca51f-95ef-46cf-adbb-64a404c6825f",
   "metadata": {
    "scrolled": true
   },
   "outputs": [],
   "source": [
    "train_loader = torch.utils.data.DataLoader(train_dataset, batch_size=batch_size, shuffle=True)\n",
    "validation_loader = torch.utils.data.DataLoader(val_dataset, batch_size=1, shuffle=True)"
   ]
  },
  {
   "cell_type": "code",
   "execution_count": 6,
   "id": "d4ca2e49-f117-430b-b648-d357d45d8036",
   "metadata": {},
   "outputs": [],
   "source": [
    "model = mls.MVC(in_features).double()\n",
    "learning_rate = 0.1\n",
    "loss_f = nn.CrossEntropyLoss()\n",
    "optimizer = torch.optim.Adam(model.parameters())\n",
    "scheduler = torch.optim.lr_scheduler.ReduceLROnPlateau(optimizer, mode='min')"
   ]
  },
  {
   "cell_type": "code",
   "execution_count": null,
   "id": "38157ae1-a839-41a9-bad7-d141913cf8fc",
   "metadata": {},
   "outputs": [
    {
     "name": "stdout",
     "output_type": "stream",
     "text": [
      "e0: Train Loss: 0.4939; Val Loss: 0.2432 acc: 91.4267\n",
      "e1: Train Loss: 0.2207; Val Loss: 0.2821 acc: 89.9600\n",
      "e2: Train Loss: 0.1908; Val Loss: 0.1817 acc: 93.5733\n",
      "e3: Train Loss: 0.1713; Val Loss: 0.1795 acc: 93.6667\n",
      "e4: Train Loss: 0.1613; Val Loss: 0.1745 acc: 93.6800\n",
      "e5: Train Loss: 0.1523; Val Loss: 0.1573 acc: 94.2400\n",
      "e6: Train Loss: 0.1447; Val Loss: 0.2350 acc: 91.5467\n",
      "e7: Train Loss: 0.1365; Val Loss: 0.1530 acc: 94.2400\n",
      "e8: Train Loss: 0.1287; Val Loss: 0.1420 acc: 94.6933\n",
      "e9: Train Loss: 0.1211; Val Loss: 0.1787 acc: 93.5467\n",
      "e10: Train Loss: 0.1153; Val Loss: 0.1345 acc: 94.9867\n",
      "e11: Train Loss: 0.1076; Val Loss: 0.1517 acc: 94.5333\n",
      "e12: Train Loss: 0.0999; Val Loss: 0.1280 acc: 95.3333\n",
      "e13: Train Loss: 0.0919; Val Loss: 0.1533 acc: 94.6933\n",
      "e14: Train Loss: 0.0889; Val Loss: 0.1221 acc: 95.7333\n",
      "e15: Train Loss: 0.0812; Val Loss: 0.1205 acc: 95.5067\n",
      "e16: Train Loss: 0.0786; Val Loss: 0.1238 acc: 95.7867\n",
      "e17: Train Loss: 0.0746; Val Loss: 0.1276 acc: 95.8667\n",
      "e18: Train Loss: 0.0688; Val Loss: 0.1370 acc: 95.5333\n",
      "e19: Train Loss: 0.0640; Val Loss: 0.1163 acc: 96.1733\n",
      "e20: Train Loss: 0.0634; Val Loss: 0.1245 acc: 95.9867\n",
      "e21: Train Loss: 0.0572; Val Loss: 0.1123 acc: 96.2533\n",
      "e22: Train Loss: 0.0543; Val Loss: 0.1543 acc: 95.5600\n",
      "e23: Train Loss: 0.0552; Val Loss: 0.1216 acc: 96.4000\n",
      "e24: Train Loss: 0.0518; Val Loss: 0.1433 acc: 95.4267\n",
      "e25: Train Loss: 0.0483; Val Loss: 0.1048 acc: 96.6000\n",
      "e26: Train Loss: 0.0437; Val Loss: 0.1315 acc: 96.0533\n",
      "e27: Train Loss: 0.0420; Val Loss: 0.1394 acc: 95.8133\n",
      "e28: Train Loss: 0.0438; Val Loss: 0.1321 acc: 96.2267\n",
      "e29: Train Loss: 0.0384; Val Loss: 0.1266 acc: 96.3733\n",
      "e30: Train Loss: 0.0406; Val Loss: 0.1472 acc: 95.9600\n",
      "e31: Train Loss: 0.0374; Val Loss: 0.1272 acc: 96.5333\n",
      "e32: Train Loss: 0.0386; Val Loss: 0.1548 acc: 96.0000\n",
      "e33: Train Loss: 0.0357; Val Loss: 0.1519 acc: 96.0667\n",
      "e34: Train Loss: 0.0331; Val Loss: 0.1515 acc: 96.3067\n",
      "e35: Train Loss: 0.0324; Val Loss: 0.1259 acc: 96.6000\n",
      "e36: Train Loss: 0.0342; Val Loss: 0.1383 acc: 96.6133\n",
      "e37: Train Loss: 0.0159; Val Loss: 0.1235 acc: 96.8267\n",
      "e38: Train Loss: 0.0141; Val Loss: 0.1253 acc: 96.7733\n",
      "e39: Train Loss: 0.0139; Val Loss: 0.1253 acc: 96.8533\n",
      "e40: Train Loss: 0.0135; Val Loss: 0.1261 acc: 96.9733\n",
      "e41: Train Loss: 0.0132; Val Loss: 0.1300 acc: 96.8533\n",
      "e42: Train Loss: 0.0128; Val Loss: 0.1333 acc: 96.8667\n",
      "e43: Train Loss: 0.0127; Val Loss: 0.1297 acc: 96.9867\n",
      "e44: Train Loss: 0.0124; Val Loss: 0.1317 acc: 96.9067\n",
      "e45: Train Loss: 0.0122; Val Loss: 0.1291 acc: 97.1200\n",
      "e46: Train Loss: 0.0120; Val Loss: 0.1382 acc: 96.8267\n",
      "e47: Train Loss: 0.0119; Val Loss: 0.1342 acc: 96.8667\n",
      "e48: Train Loss: 0.0114; Val Loss: 0.1328 acc: 96.9733\n",
      "e49: Train Loss: 0.0112; Val Loss: 0.1336 acc: 96.9867\n",
      "e50: Train Loss: 0.0112; Val Loss: 0.1337 acc: 96.9333\n",
      "e51: Train Loss: 0.0112; Val Loss: 0.1339 acc: 96.9600\n",
      "e52: Train Loss: 0.0112; Val Loss: 0.1344 acc: 96.9467\n",
      "e53: Train Loss: 0.0111; Val Loss: 0.1346 acc: 96.9733\n",
      "e54: Train Loss: 0.0111; Val Loss: 0.1349 acc: 97.0667\n",
      "e55: Train Loss: 0.0111; Val Loss: 0.1354 acc: 97.0267\n",
      "e56: Train Loss: 0.0111; Val Loss: 0.1355 acc: 97.0267\n"
     ]
    }
   ],
   "source": [
    "if train_model:\n",
    "    train_loss = []\n",
    "    train_acc = []\n",
    "    val_loss = []\n",
    "    val_acc = []\n",
    "    lrs = []\n",
    "    best_loss = np.inf\n",
    "    for epoch in range(num_epochs):\n",
    "        t_loss, t_acc = mls.training_epoch(model, optimizer, loss_f, train_loader)\n",
    "        t_loss = t_loss/len(train_dataset)\n",
    "        t_acc = 100*(t_acc/len(train_dataset))\n",
    "        \n",
    "        v_loss, v_acc = mls.validation_epoch(model, loss_f, validation_loader)\n",
    "        v_loss = v_loss/len(val_dataset)\n",
    "        v_acc = 100*(v_acc/len(val_dataset))\n",
    "        \n",
    "        train_loss.append(t_loss)\n",
    "        val_loss.append(v_loss)\n",
    "        train_acc.append(t_acc)\n",
    "        val_acc.append(v_acc)\n",
    "        lrs.append(optimizer.param_groups[0]['lr'])\n",
    "        scheduler.step(v_loss)\n",
    "        \n",
    "        if epoch%save_interval==0 and save_model:\n",
    "            isBest = v_loss<best_loss\n",
    "            mls.save_model(model_p, epoch, model, optimizer, v_loss, isBest) \n",
    "            \n",
    "        print(f'e{epoch}: Train Loss: {t_loss:.04f}; Val Loss: {v_loss:.04f} acc: {v_acc:.04f}')\n",
    "    isBest = v_loss<best_loss\n",
    "    mls.save_model(model_p, epoch, model, optimizer, v_loss, isBest) "
   ]
  },
  {
   "cell_type": "code",
   "execution_count": null,
   "id": "3c0b1f30-0f92-413f-a699-d36ce6b08965",
   "metadata": {},
   "outputs": [],
   "source": [
    "if train_model:\n",
    "    with open(f'{model_p}/log.json', 'w') as fout:\n",
    "        training_info ={\n",
    "            'train_loss':train_loss,\n",
    "            'train_acc':train_acc,\n",
    "            'val_loss':val_loss,\n",
    "            'val_acc':val_acc,\n",
    "            'lrs':lrs,\n",
    "        }\n",
    "        json_dumps_str = json.dumps(training_info, indent=4)\n",
    "        print(json_dumps_str, file=fout)\n",
    "else:\n",
    "    training_info = json.load(open(f'{model_p}/log.json'))\n",
    "    train_loss = training_info['train_loss']\n",
    "    train_acc = training_info['train_acc']\n",
    "    val_loss = training_info['val_loss']\n",
    "    val_acc = training_info['val_acc']\n",
    "    lrs = training_info['lrs']"
   ]
  },
  {
   "cell_type": "code",
   "execution_count": null,
   "id": "ff00d51b-b77d-4b9b-9664-45e238dfa06a",
   "metadata": {},
   "outputs": [],
   "source": [
    "import matplotlib.pyplot as plt\n",
    "fig, axs = plt.subplots(3, 1, figsize=(10,10))\n",
    "axs[0].plot(train_loss, color='blue')\n",
    "axs[0].plot(val_loss, color='black')\n",
    "\n",
    "axs[1].plot(train_acc, color='blue')\n",
    "axs[1].plot(val_acc, color='black')\n",
    "\n",
    "axs[2].plot(lrs, color='black')"
   ]
  }
 ],
 "metadata": {
  "kernelspec": {
   "display_name": "fiesc_env",
   "language": "python",
   "name": "fiesc_env"
  },
  "language_info": {
   "codemirror_mode": {
    "name": "ipython",
    "version": 3
   },
   "file_extension": ".py",
   "mimetype": "text/x-python",
   "name": "python",
   "nbconvert_exporter": "python",
   "pygments_lexer": "ipython3",
   "version": "3.10.10"
  }
 },
 "nbformat": 4,
 "nbformat_minor": 5
}
