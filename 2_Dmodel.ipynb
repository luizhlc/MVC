{
 "cells": [
  {
   "cell_type": "code",
   "execution_count": 1,
   "id": "e9d489d8-bbc8-4594-bba1-d98fca79ffe5",
   "metadata": {},
   "outputs": [
    {
     "name": "stdout",
     "output_type": "stream",
     "text": [
      "Requirement already satisfied: torch in /home/sheldon/anaconda3/envs/basics/lib/python3.11/site-packages (2.2.0)\n",
      "Requirement already satisfied: filelock in /home/sheldon/anaconda3/envs/basics/lib/python3.11/site-packages (from torch) (3.13.1)\n",
      "Requirement already satisfied: typing-extensions>=4.8.0 in /home/sheldon/anaconda3/envs/basics/lib/python3.11/site-packages (from torch) (4.9.0)\n",
      "Requirement already satisfied: sympy in /home/sheldon/anaconda3/envs/basics/lib/python3.11/site-packages (from torch) (1.12)\n",
      "Requirement already satisfied: networkx in /home/sheldon/anaconda3/envs/basics/lib/python3.11/site-packages (from torch) (3.2.1)\n",
      "Requirement already satisfied: jinja2 in /home/sheldon/anaconda3/envs/basics/lib/python3.11/site-packages (from torch) (3.1.2)\n",
      "Requirement already satisfied: fsspec in /home/sheldon/anaconda3/envs/basics/lib/python3.11/site-packages (from torch) (2024.2.0)\n",
      "Requirement already satisfied: nvidia-cuda-nvrtc-cu12==12.1.105 in /home/sheldon/anaconda3/envs/basics/lib/python3.11/site-packages (from torch) (12.1.105)\n",
      "Requirement already satisfied: nvidia-cuda-runtime-cu12==12.1.105 in /home/sheldon/anaconda3/envs/basics/lib/python3.11/site-packages (from torch) (12.1.105)\n",
      "Requirement already satisfied: nvidia-cuda-cupti-cu12==12.1.105 in /home/sheldon/anaconda3/envs/basics/lib/python3.11/site-packages (from torch) (12.1.105)\n",
      "Requirement already satisfied: nvidia-cudnn-cu12==8.9.2.26 in /home/sheldon/anaconda3/envs/basics/lib/python3.11/site-packages (from torch) (8.9.2.26)\n",
      "Requirement already satisfied: nvidia-cublas-cu12==12.1.3.1 in /home/sheldon/anaconda3/envs/basics/lib/python3.11/site-packages (from torch) (12.1.3.1)\n",
      "Requirement already satisfied: nvidia-cufft-cu12==11.0.2.54 in /home/sheldon/anaconda3/envs/basics/lib/python3.11/site-packages (from torch) (11.0.2.54)\n",
      "Requirement already satisfied: nvidia-curand-cu12==10.3.2.106 in /home/sheldon/anaconda3/envs/basics/lib/python3.11/site-packages (from torch) (10.3.2.106)\n",
      "Requirement already satisfied: nvidia-cusolver-cu12==11.4.5.107 in /home/sheldon/anaconda3/envs/basics/lib/python3.11/site-packages (from torch) (11.4.5.107)\n",
      "Requirement already satisfied: nvidia-cusparse-cu12==12.1.0.106 in /home/sheldon/anaconda3/envs/basics/lib/python3.11/site-packages (from torch) (12.1.0.106)\n",
      "Requirement already satisfied: nvidia-nccl-cu12==2.19.3 in /home/sheldon/anaconda3/envs/basics/lib/python3.11/site-packages (from torch) (2.19.3)\n",
      "Requirement already satisfied: nvidia-nvtx-cu12==12.1.105 in /home/sheldon/anaconda3/envs/basics/lib/python3.11/site-packages (from torch) (12.1.105)\n",
      "Requirement already satisfied: triton==2.2.0 in /home/sheldon/anaconda3/envs/basics/lib/python3.11/site-packages (from torch) (2.2.0)\n",
      "Requirement already satisfied: nvidia-nvjitlink-cu12 in /home/sheldon/anaconda3/envs/basics/lib/python3.11/site-packages (from nvidia-cusolver-cu12==11.4.5.107->torch) (12.3.101)\n",
      "Requirement already satisfied: MarkupSafe>=2.0 in /home/sheldon/anaconda3/envs/basics/lib/python3.11/site-packages (from jinja2->torch) (2.1.1)\n",
      "Requirement already satisfied: mpmath>=0.19 in /home/sheldon/anaconda3/envs/basics/lib/python3.11/site-packages (from sympy->torch) (1.3.0)\n",
      "Requirement already satisfied: torchvision in /home/sheldon/anaconda3/envs/basics/lib/python3.11/site-packages (0.17.0)\n",
      "Requirement already satisfied: numpy in /home/sheldon/anaconda3/envs/basics/lib/python3.11/site-packages (from torchvision) (1.25.2)\n",
      "Requirement already satisfied: requests in /home/sheldon/anaconda3/envs/basics/lib/python3.11/site-packages (from torchvision) (2.31.0)\n",
      "Requirement already satisfied: torch==2.2.0 in /home/sheldon/anaconda3/envs/basics/lib/python3.11/site-packages (from torchvision) (2.2.0)\n",
      "Requirement already satisfied: pillow!=8.3.*,>=5.3.0 in /home/sheldon/anaconda3/envs/basics/lib/python3.11/site-packages (from torchvision) (9.4.0)\n",
      "Requirement already satisfied: filelock in /home/sheldon/anaconda3/envs/basics/lib/python3.11/site-packages (from torch==2.2.0->torchvision) (3.13.1)\n",
      "Requirement already satisfied: typing-extensions>=4.8.0 in /home/sheldon/anaconda3/envs/basics/lib/python3.11/site-packages (from torch==2.2.0->torchvision) (4.9.0)\n",
      "Requirement already satisfied: sympy in /home/sheldon/anaconda3/envs/basics/lib/python3.11/site-packages (from torch==2.2.0->torchvision) (1.12)\n",
      "Requirement already satisfied: networkx in /home/sheldon/anaconda3/envs/basics/lib/python3.11/site-packages (from torch==2.2.0->torchvision) (3.2.1)\n",
      "Requirement already satisfied: jinja2 in /home/sheldon/anaconda3/envs/basics/lib/python3.11/site-packages (from torch==2.2.0->torchvision) (3.1.2)\n",
      "Requirement already satisfied: fsspec in /home/sheldon/anaconda3/envs/basics/lib/python3.11/site-packages (from torch==2.2.0->torchvision) (2024.2.0)\n",
      "Requirement already satisfied: nvidia-cuda-nvrtc-cu12==12.1.105 in /home/sheldon/anaconda3/envs/basics/lib/python3.11/site-packages (from torch==2.2.0->torchvision) (12.1.105)\n",
      "Requirement already satisfied: nvidia-cuda-runtime-cu12==12.1.105 in /home/sheldon/anaconda3/envs/basics/lib/python3.11/site-packages (from torch==2.2.0->torchvision) (12.1.105)\n",
      "Requirement already satisfied: nvidia-cuda-cupti-cu12==12.1.105 in /home/sheldon/anaconda3/envs/basics/lib/python3.11/site-packages (from torch==2.2.0->torchvision) (12.1.105)\n",
      "Requirement already satisfied: nvidia-cudnn-cu12==8.9.2.26 in /home/sheldon/anaconda3/envs/basics/lib/python3.11/site-packages (from torch==2.2.0->torchvision) (8.9.2.26)\n",
      "Requirement already satisfied: nvidia-cublas-cu12==12.1.3.1 in /home/sheldon/anaconda3/envs/basics/lib/python3.11/site-packages (from torch==2.2.0->torchvision) (12.1.3.1)\n",
      "Requirement already satisfied: nvidia-cufft-cu12==11.0.2.54 in /home/sheldon/anaconda3/envs/basics/lib/python3.11/site-packages (from torch==2.2.0->torchvision) (11.0.2.54)\n",
      "Requirement already satisfied: nvidia-curand-cu12==10.3.2.106 in /home/sheldon/anaconda3/envs/basics/lib/python3.11/site-packages (from torch==2.2.0->torchvision) (10.3.2.106)\n",
      "Requirement already satisfied: nvidia-cusolver-cu12==11.4.5.107 in /home/sheldon/anaconda3/envs/basics/lib/python3.11/site-packages (from torch==2.2.0->torchvision) (11.4.5.107)\n",
      "Requirement already satisfied: nvidia-cusparse-cu12==12.1.0.106 in /home/sheldon/anaconda3/envs/basics/lib/python3.11/site-packages (from torch==2.2.0->torchvision) (12.1.0.106)\n",
      "Requirement already satisfied: nvidia-nccl-cu12==2.19.3 in /home/sheldon/anaconda3/envs/basics/lib/python3.11/site-packages (from torch==2.2.0->torchvision) (2.19.3)\n",
      "Requirement already satisfied: nvidia-nvtx-cu12==12.1.105 in /home/sheldon/anaconda3/envs/basics/lib/python3.11/site-packages (from torch==2.2.0->torchvision) (12.1.105)\n",
      "Requirement already satisfied: triton==2.2.0 in /home/sheldon/anaconda3/envs/basics/lib/python3.11/site-packages (from torch==2.2.0->torchvision) (2.2.0)\n",
      "Requirement already satisfied: nvidia-nvjitlink-cu12 in /home/sheldon/anaconda3/envs/basics/lib/python3.11/site-packages (from nvidia-cusolver-cu12==11.4.5.107->torch==2.2.0->torchvision) (12.3.101)\n",
      "Requirement already satisfied: charset-normalizer<4,>=2 in /home/sheldon/anaconda3/envs/basics/lib/python3.11/site-packages (from requests->torchvision) (2.0.4)\n",
      "Requirement already satisfied: idna<4,>=2.5 in /home/sheldon/anaconda3/envs/basics/lib/python3.11/site-packages (from requests->torchvision) (3.4)\n",
      "Requirement already satisfied: urllib3<3,>=1.21.1 in /home/sheldon/anaconda3/envs/basics/lib/python3.11/site-packages (from requests->torchvision) (1.26.16)\n",
      "Requirement already satisfied: certifi>=2017.4.17 in /home/sheldon/anaconda3/envs/basics/lib/python3.11/site-packages (from requests->torchvision) (2023.7.22)\n",
      "Requirement already satisfied: MarkupSafe>=2.0 in /home/sheldon/anaconda3/envs/basics/lib/python3.11/site-packages (from jinja2->torch==2.2.0->torchvision) (2.1.1)\n",
      "Requirement already satisfied: mpmath>=0.19 in /home/sheldon/anaconda3/envs/basics/lib/python3.11/site-packages (from sympy->torch==2.2.0->torchvision) (1.3.0)\n"
     ]
    }
   ],
   "source": [
    "!pip install torch\n",
    "!pip install torchvision"
   ]
  },
  {
   "cell_type": "code",
   "execution_count": 2,
   "id": "0fb69204-037a-437c-a943-fa0845fb624f",
   "metadata": {},
   "outputs": [],
   "source": [
    "import torch\n",
    "import numpy as np\n",
    "from torchvision import datasets\n",
    "import torchvision.transforms as transforms\n",
    "from torch.utils.data.sampler import SubsetRandomSampler\n",
    "import torch.nn as nn\n",
    "import torch.nn.functional as Fn\n",
    "import matplotlib.pyplot as plt\n",
    "import pandas as pd\n",
    "from torch.utils.data import Dataset\n",
    "from tqdm.notebook import tqdm"
   ]
  },
  {
   "cell_type": "code",
   "execution_count": 3,
   "id": "403764f2-a56e-4dfb-a8dc-76ec1c8dfd52",
   "metadata": {},
   "outputs": [],
   "source": [
    "class CustomDataSet(Dataset):\n",
    "    def __init__(self, csv_file):\n",
    "        self.classes_k = {'Classe A':0,'Classe B':1, 'Classe C':2,'Classe D':3,'Classe E':4}\n",
    "        self.df = pd.read_csv(csv_file)\n",
    "        \n",
    "    def __len__(self):\n",
    "        return self.df.shape[0]\n",
    "\n",
    "    def __getitem__(self, index):\n",
    "        label = self.classes_k[self.df.loc[index]['Classe']]\n",
    "        data = torch.tensor(self.df.loc[index][1:])\n",
    "        return data, label\n"
   ]
  },
  {
   "cell_type": "code",
   "execution_count": 4,
   "id": "6da60347-cfde-45ed-a4e5-5c44b3757c26",
   "metadata": {},
   "outputs": [],
   "source": [
    "train_dataset = CustomDataSet(\"./dataset/processed/train_data.csv\")\n",
    "val_dataset = CustomDataSet(\"./dataset/processed/test_data.csv\")"
   ]
  },
  {
   "cell_type": "code",
   "execution_count": 5,
   "id": "ad19b82a-13d8-4778-b33d-c0524eeade33",
   "metadata": {},
   "outputs": [],
   "source": [
    "batch_size = 16\n",
    "validation_split = .3\n",
    "shuffle_dataset = True\n",
    "random_seed= 42\n",
    "num_epochs = 200\n",
    "in_features = len(train_dataset[0][0])\n",
    "out_classes = 5"
   ]
  },
  {
   "cell_type": "code",
   "execution_count": 6,
   "id": "1e8ca51f-95ef-46cf-adbb-64a404c6825f",
   "metadata": {
    "scrolled": true
   },
   "outputs": [],
   "source": [
    "train_loader = torch.utils.data.DataLoader(train_dataset, batch_size=batch_size, shuffle=True)\n",
    "validation_loader = torch.utils.data.DataLoader(val_dataset, batch_size=1, shuffle=True)"
   ]
  },
  {
   "cell_type": "code",
   "execution_count": 7,
   "id": "d4ca2e49-f117-430b-b648-d357d45d8036",
   "metadata": {},
   "outputs": [],
   "source": [
    "class SimpleMLP(nn.Module):\n",
    "    def __init__(self, in_features, out_features=5):\n",
    "        super().__init__()\n",
    "        self.layers = nn.Sequential(\n",
    "            nn.Linear(in_features, 128),\n",
    "            nn.ReLU(),\n",
    "            nn.Linear(128, 64),\n",
    "            nn.ReLU(),\n",
    "            nn.Linear(64, out_features)\n",
    "        )\n",
    "\n",
    "    def forward(self, x):\n",
    "        return self.layers(x)\n",
    "MLP_model = SimpleMLP(in_features).double()"
   ]
  },
  {
   "cell_type": "code",
   "execution_count": 8,
   "id": "0e487959-7bc1-4b05-8b55-6f2a48fb1dbf",
   "metadata": {},
   "outputs": [],
   "source": [
    "learning_rate = 0.1\n",
    "MLP_criterion = nn.CrossEntropyLoss()#BCEWithLogitsLoss\n",
    "Model_optimizer = torch.optim.Adam(MLP_model.parameters())"
   ]
  },
  {
   "cell_type": "code",
   "execution_count": 9,
   "id": "38157ae1-a839-41a9-bad7-d141913cf8fc",
   "metadata": {},
   "outputs": [
    {
     "name": "stderr",
     "output_type": "stream",
     "text": [
      "/home/sheldon/anaconda3/envs/basics/lib/python3.11/site-packages/torch/autograd/__init__.py:266: UserWarning: CUDA initialization: The NVIDIA driver on your system is too old (found version 9010). Please update your GPU driver by downloading and installing a new version from the URL: http://www.nvidia.com/Download/index.aspx Alternatively, go to: https://pytorch.org to install a PyTorch version that has been compiled with your version of the CUDA driver. (Triggered internally at ../c10/cuda/CUDAFunctions.cpp:108.)\n",
      "  Variable._execution_engine.run_backward(  # Calls into the C++ engine to run the backward pass\n"
     ]
    },
    {
     "name": "stdout",
     "output_type": "stream",
     "text": [
      "train_correct = 80.81142857142858\n"
     ]
    },
    {
     "ename": "NameError",
     "evalue": "name 'valid_sampler' is not defined",
     "output_type": "error",
     "traceback": [
      "\u001b[0;31m---------------------------------------------------------------------------\u001b[0m",
      "\u001b[0;31mNameError\u001b[0m                                 Traceback (most recent call last)",
      "Cell \u001b[0;32mIn[9], line 43\u001b[0m\n\u001b[1;32m     41\u001b[0m val_acc\u001b[38;5;241m.\u001b[39mappend(correct \u001b[38;5;241m*\u001b[39m \u001b[38;5;241m100\u001b[39m \u001b[38;5;241m/\u001b[39m\u001b[38;5;28mlen\u001b[39m(val_dataset))\n\u001b[1;32m     42\u001b[0m \u001b[38;5;28;01mif\u001b[39;00m epoch\u001b[38;5;241m%\u001b[39m\u001b[38;5;241m10\u001b[39m\u001b[38;5;241m==\u001b[39m\u001b[38;5;241m0\u001b[39m:\n\u001b[0;32m---> 43\u001b[0m     v_loss \u001b[38;5;241m=\u001b[39m validation_loss\u001b[38;5;241m/\u001b[39m\u001b[38;5;28mlen\u001b[39m(\u001b[43mvalid_sampler\u001b[49m)\n\u001b[1;32m     44\u001b[0m     \u001b[38;5;28mprint\u001b[39m(\u001b[38;5;124mf\u001b[39m\u001b[38;5;124m'\u001b[39m\u001b[38;5;124me\u001b[39m\u001b[38;5;132;01m{\u001b[39;00mepoch\u001b[38;5;132;01m}\u001b[39;00m\u001b[38;5;124m: Train Loss: \u001b[39m\u001b[38;5;132;01m{\u001b[39;00mtraining_loss\u001b[38;5;241m/\u001b[39m\u001b[38;5;28mlen\u001b[39m(train_dataset)\u001b[38;5;132;01m:\u001b[39;00m\u001b[38;5;124m.04f\u001b[39m\u001b[38;5;132;01m}\u001b[39;00m\u001b[38;5;124m; Val Loss: \u001b[39m\u001b[38;5;132;01m{\u001b[39;00mvalidation_loss\u001b[38;5;241m/\u001b[39m\u001b[38;5;28mlen\u001b[39m(val_dataset)\u001b[38;5;132;01m:\u001b[39;00m\u001b[38;5;124m.04f\u001b[39m\u001b[38;5;132;01m}\u001b[39;00m\u001b[38;5;124m acc: \u001b[39m\u001b[38;5;132;01m{\u001b[39;00mcorrect\u001b[38;5;250m \u001b[39m\u001b[38;5;241m*\u001b[39m\u001b[38;5;250m \u001b[39m\u001b[38;5;241m100\u001b[39m\u001b[38;5;250m \u001b[39m\u001b[38;5;241m/\u001b[39m\u001b[38;5;28mlen\u001b[39m(val_dataset)\u001b[38;5;132;01m:\u001b[39;00m\u001b[38;5;124m.04f\u001b[39m\u001b[38;5;132;01m}\u001b[39;00m\u001b[38;5;124m'\u001b[39m)\n\u001b[1;32m     45\u001b[0m     \u001b[38;5;66;03m# torch.save({\u001b[39;00m\n\u001b[1;32m     46\u001b[0m     \u001b[38;5;66;03m#     'epoch': epoch,\u001b[39;00m\n\u001b[1;32m     47\u001b[0m     \u001b[38;5;66;03m#     'model_state_dict': MLP_model.state_dict(),\u001b[39;00m\n\u001b[0;32m   (...)\u001b[0m\n\u001b[1;32m     57\u001b[0m     \u001b[38;5;66;03m#         'loss': validation_loss/len(valid_sampler),\u001b[39;00m\n\u001b[1;32m     58\u001b[0m     \u001b[38;5;66;03m#         }, f\"./model_best.checkpoint\")\u001b[39;00m\n",
      "\u001b[0;31mNameError\u001b[0m: name 'valid_sampler' is not defined"
     ]
    }
   ],
   "source": [
    "train_losses = []\n",
    "train_acc = []\n",
    "val_loss = []\n",
    "val_acc = []\n",
    "best_loss = 100\n",
    "for epoch in range(2): # monitoring the losses\n",
    "    training_loss = 0\n",
    "    validation_loss = 0\n",
    "    train_correct = 0\n",
    "    correct = 0\n",
    "    MLP_model.train() ## here we are preparing the model for training\n",
    "    for batch_idx, (data,label) in enumerate(train_loader):\n",
    "        Model_optimizer.zero_grad() ## Clearing the gradients or we can say making gradients to zero of all the optimized variables\n",
    "        output = MLP_model(data)\n",
    "        loss = MLP_criterion(output,label) ## Calculating the loss\n",
    "        loss.backward() ## backward pass, Computing the gradient of the loss w.r.t the parameters of the model\n",
    "        Model_optimizer.step() ## a single step of optimization\n",
    "        training_loss += loss.item() * data.size(0) ## updating the running training loss\n",
    "        predicted_class = output.argmax(1)\n",
    "        correct_ones = (predicted_class == label).type(torch.float)\n",
    "        train_correct += correct_ones.sum().item()\n",
    "        # if batch_idx%800 ==0:\n",
    "        #     # print(output)\n",
    "        #     print(f'Train Epoch: {epoch} b{batch_idx}\\tLoss {training_loss/(data.size(0)*(batch_idx+1)):.6f}')\n",
    "    print(f'train_correct = {100*train_correct/len(train_dataset)}')\n",
    "    MLP_model.eval() ## here we are preparing the model for evaluation\n",
    "    for data,label in validation_loader:\n",
    "        output = MLP_model(data) ## forward passing as in this computing the predicted outputs by passing the inputs to the model\n",
    "        loss = MLP_criterion(output,label) ## Calculating the loss\n",
    "        validation_loss += loss.item() * data.size(0) ## updating the running validation loss\n",
    "        predicted_class = output.argmax(1)\n",
    "        correct_ones = (predicted_class == label).type(torch.float)\n",
    "        correct += correct_ones.sum().item()\n",
    "        # pred_y = torch.max(torch.exp(output),1)[1].data.cpu().numpy()\n",
    "        # print(pred_y)\n",
    "        # label_y = torch.max(label,1)[1].data.cpu().numpy()\n",
    "        # correct += sum((pred_y == label_y))\n",
    "    train_losses.append(training_loss/len(train_dataset))\n",
    "    val_loss.append(validation_loss/len(val_dataset))\n",
    "    train_acc.append(100*train_correct/len(train_dataset))\n",
    "    val_acc.append(correct * 100 /len(val_dataset))\n",
    "    if epoch%10==0:\n",
    "        v_loss = validation_loss/len(val_dataset)\n",
    "        print(f'e{epoch}: Train Loss: {training_loss/len(train_dataset):.04f}; Val Loss: {validation_loss/len(val_dataset):.04f} acc: {correct * 100 /len(val_dataset):.04f}')\n",
    "        # torch.save({\n",
    "        #     'epoch': epoch,\n",
    "        #     'model_state_dict': MLP_model.state_dict(),\n",
    "        #     'optimizer_state_dict': Model_optimizer.state_dict(),\n",
    "        #     'loss': validation_loss/len(valid_sampler),\n",
    "        #     }, f\"./model_{epoch}.checkpoint\")\n",
    "        # if v_loss < best_loss:\n",
    "        #     best_loss = v_loss\n",
    "        #     torch.save({\n",
    "        #         'epoch': epoch,\n",
    "        #         'model_state_dict': MLP_model.state_dict(),\n",
    "        #         'optimizer_state_dict': Model_optimizer.state_dict(),\n",
    "        #         'loss': validation_loss/len(valid_sampler),\n",
    "        #         }, f\"./model_best.checkpoint\")"
   ]
  }
 ],
 "metadata": {
  "kernelspec": {
   "display_name": "Python 3 (ipykernel)",
   "language": "python",
   "name": "python3"
  },
  "language_info": {
   "codemirror_mode": {
    "name": "ipython",
    "version": 3
   },
   "file_extension": ".py",
   "mimetype": "text/x-python",
   "name": "python",
   "nbconvert_exporter": "python",
   "pygments_lexer": "ipython3",
   "version": "3.11.4"
  }
 },
 "nbformat": 4,
 "nbformat_minor": 5
}
