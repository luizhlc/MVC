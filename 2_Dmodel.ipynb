{
 "cells": [
  {
   "cell_type": "code",
   "execution_count": null,
   "id": "e9d489d8-bbc8-4594-bba1-d98fca79ffe5",
   "metadata": {},
   "outputs": [],
   "source": [
    "!pip install torch\n",
    "!pip install torchvision"
   ]
  },
  {
   "cell_type": "code",
   "execution_count": null,
   "id": "0fb69204-037a-437c-a943-fa0845fb624f",
   "metadata": {},
   "outputs": [],
   "source": [
    "import torch\n",
    "import numpy as np\n",
    "import torch.nn as nn\n",
    "import matplotlib.pyplot as plt\n",
    "from mls import mls\n",
    "import json"
   ]
  },
  {
   "cell_type": "code",
   "execution_count": null,
   "id": "6da60347-cfde-45ed-a4e5-5c44b3757c26",
   "metadata": {},
   "outputs": [],
   "source": [
    "train_dataset = mls.CustomDataSet(\"./dataset/processed/train_data.csv\")\n",
    "val_dataset = mls.CustomDataSet(\"./dataset/processed/test_data.csv\")"
   ]
  },
  {
   "cell_type": "code",
   "execution_count": null,
   "id": "ad19b82a-13d8-4778-b33d-c0524eeade33",
   "metadata": {},
   "outputs": [],
   "source": [
    "batch_size = 16\n",
    "shuffle_dataset = True\n",
    "num_epochs = 150\n",
    "in_features = len(train_dataset[0][0])\n",
    "out_classes = 5\n",
    "save_model = True\n",
    "save_interval = 10\n",
    "model_p = './checkpoints/'"
   ]
  },
  {
   "cell_type": "code",
   "execution_count": null,
   "id": "1e8ca51f-95ef-46cf-adbb-64a404c6825f",
   "metadata": {
    "scrolled": true
   },
   "outputs": [],
   "source": [
    "train_loader = torch.utils.data.DataLoader(train_dataset, batch_size=batch_size, shuffle=True)\n",
    "validation_loader = torch.utils.data.DataLoader(val_dataset, batch_size=1, shuffle=True)"
   ]
  },
  {
   "cell_type": "code",
   "execution_count": null,
   "id": "d4ca2e49-f117-430b-b648-d357d45d8036",
   "metadata": {},
   "outputs": [],
   "source": [
    "model = mls.MVC(in_features).double()\n",
    "learning_rate = 0.1\n",
    "loss_f = nn.CrossEntropyLoss()\n",
    "optimizer = torch.optim.Adam(model.parameters())\n",
    "scheduler = torch.optim.lr_scheduler.ReduceLROnPlateau(optimizer, mode='min')"
   ]
  },
  {
   "cell_type": "code",
   "execution_count": null,
   "id": "38157ae1-a839-41a9-bad7-d141913cf8fc",
   "metadata": {},
   "outputs": [],
   "source": [
    "train_loss = []\n",
    "train_acc = []\n",
    "val_loss = []\n",
    "val_acc = []\n",
    "lrs = []\n",
    "best_loss = np.inf\n",
    "for epoch in range(num_epochs):\n",
    "    t_loss, t_acc = mls.training_epoch(model, optimizer, loss_f, train_loader)\n",
    "    t_loss = t_loss/len(train_dataset)\n",
    "    t_acc = 100*(t_acc/len(train_dataset))\n",
    "    \n",
    "    v_loss, v_acc = mls.validation_epoch(model, loss_f, validation_loader)\n",
    "    v_loss = v_loss/len(val_dataset)\n",
    "    v_acc = 100*(v_acc/len(val_dataset))\n",
    "    \n",
    "    train_loss.append(t_loss)\n",
    "    val_loss.append(v_loss)\n",
    "    train_acc.append(t_acc)\n",
    "    val_acc.append(v_loss)\n",
    "    lrs.append(optimizer.param_groups[0]['lr'])\n",
    "    scheduler.step(v_loss)\n",
    "    \n",
    "    if epoch%save_interval==0 and save_model:\n",
    "        isBest = v_loss<best_loss\n",
    "        mls.save_model(model_p, epoch, model, optimizer, v_loss, isBest) \n",
    "        \n",
    "    print(f'e{epoch}: Train Loss: {t_loss:.04f}; Val Loss: {v_loss:.04f} acc: {v_acc:.04f}')\n",
    "        "
   ]
  },
  {
   "cell_type": "code",
   "execution_count": null,
   "id": "3c0b1f30-0f92-413f-a699-d36ce6b08965",
   "metadata": {},
   "outputs": [],
   "source": [
    "with open(f'{model_p}/log.json', 'w') as fout:\n",
    "    training_info ={\n",
    "        'train_loss':train_loss,\n",
    "        'train_acc':train_acc,\n",
    "        'val_loss':val_loss,\n",
    "        'val_acc':val_acc,\n",
    "        'lrs':lrs,\n",
    "    }\n",
    "    json_dumps_str = json.dumps(training_info, indent=4)\n",
    "    print(json_dumps_str, file=fout)"
   ]
  },
  {
   "cell_type": "code",
   "execution_count": null,
   "id": "ff00d51b-b77d-4b9b-9664-45e238dfa06a",
   "metadata": {},
   "outputs": [],
   "source": [
    "import matplotlib.pyplot as plt\n",
    "fig, axs = plt.subplots(3, 1, figsize=(20,5))\n",
    "axs[0].plot(train_loss, color='blue')\n",
    "axs[0].plot(val_loss, color='black')\n",
    "\n",
    "axs[1].plot(train_acc, color='blue')\n",
    "axs[1].plot(val_acc, color='black')\n",
    "\n",
    "axs[2].plot(lrs, color='black')"
   ]
  }
 ],
 "metadata": {
  "kernelspec": {
   "display_name": "Python 3 (ipykernel)",
   "language": "python",
   "name": "python3"
  },
  "language_info": {
   "codemirror_mode": {
    "name": "ipython",
    "version": 3
   },
   "file_extension": ".py",
   "mimetype": "text/x-python",
   "name": "python",
   "nbconvert_exporter": "python",
   "pygments_lexer": "ipython3",
   "version": "3.10.10"
  }
 },
 "nbformat": 4,
 "nbformat_minor": 5
}
