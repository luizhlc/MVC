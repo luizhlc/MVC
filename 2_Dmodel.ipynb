{
 "cells": [
  {
   "cell_type": "code",
   "execution_count": 1,
   "id": "e9d489d8-bbc8-4594-bba1-d98fca79ffe5",
   "metadata": {},
   "outputs": [
    {
     "name": "stdout",
     "output_type": "stream",
     "text": [
      "Requirement already satisfied: torch in /home/luizhlc/miniconda3/lib/python3.10/site-packages (2.0.1)\n",
      "Requirement already satisfied: nvidia-cusparse-cu11==11.7.4.91 in /home/luizhlc/miniconda3/lib/python3.10/site-packages (from torch) (11.7.4.91)\n",
      "Requirement already satisfied: sympy in /home/luizhlc/miniconda3/lib/python3.10/site-packages (from torch) (1.12)\n",
      "Requirement already satisfied: jinja2 in /home/luizhlc/miniconda3/lib/python3.10/site-packages (from torch) (3.1.2)\n",
      "Requirement already satisfied: nvidia-cuda-nvrtc-cu11==11.7.99 in /home/luizhlc/miniconda3/lib/python3.10/site-packages (from torch) (11.7.99)\n",
      "Requirement already satisfied: nvidia-cuda-cupti-cu11==11.7.101 in /home/luizhlc/miniconda3/lib/python3.10/site-packages (from torch) (11.7.101)\n",
      "Requirement already satisfied: typing-extensions in /home/luizhlc/miniconda3/lib/python3.10/site-packages (from torch) (4.6.3)\n",
      "Requirement already satisfied: networkx in /home/luizhlc/miniconda3/lib/python3.10/site-packages (from torch) (3.1)\n",
      "Requirement already satisfied: nvidia-nvtx-cu11==11.7.91 in /home/luizhlc/miniconda3/lib/python3.10/site-packages (from torch) (11.7.91)\n",
      "Requirement already satisfied: nvidia-cublas-cu11==11.10.3.66 in /home/luizhlc/miniconda3/lib/python3.10/site-packages (from torch) (11.10.3.66)\n",
      "Requirement already satisfied: triton==2.0.0 in /home/luizhlc/miniconda3/lib/python3.10/site-packages (from torch) (2.0.0)\n",
      "Requirement already satisfied: nvidia-cufft-cu11==10.9.0.58 in /home/luizhlc/miniconda3/lib/python3.10/site-packages (from torch) (10.9.0.58)\n",
      "Requirement already satisfied: filelock in /home/luizhlc/miniconda3/lib/python3.10/site-packages (from torch) (3.12.2)\n",
      "Requirement already satisfied: nvidia-curand-cu11==10.2.10.91 in /home/luizhlc/miniconda3/lib/python3.10/site-packages (from torch) (10.2.10.91)\n",
      "Requirement already satisfied: nvidia-cudnn-cu11==8.5.0.96 in /home/luizhlc/miniconda3/lib/python3.10/site-packages (from torch) (8.5.0.96)\n",
      "Requirement already satisfied: nvidia-cuda-runtime-cu11==11.7.99 in /home/luizhlc/miniconda3/lib/python3.10/site-packages (from torch) (11.7.99)\n",
      "Requirement already satisfied: nvidia-nccl-cu11==2.14.3 in /home/luizhlc/miniconda3/lib/python3.10/site-packages (from torch) (2.14.3)\n",
      "Requirement already satisfied: nvidia-cusolver-cu11==11.4.0.1 in /home/luizhlc/miniconda3/lib/python3.10/site-packages (from torch) (11.4.0.1)\n",
      "Requirement already satisfied: wheel in /home/luizhlc/miniconda3/lib/python3.10/site-packages (from nvidia-cublas-cu11==11.10.3.66->torch) (0.38.4)\n",
      "Requirement already satisfied: setuptools in /home/luizhlc/miniconda3/lib/python3.10/site-packages (from nvidia-cublas-cu11==11.10.3.66->torch) (65.6.3)\n",
      "Requirement already satisfied: cmake in /home/luizhlc/miniconda3/lib/python3.10/site-packages (from triton==2.0.0->torch) (3.27.0)\n",
      "Requirement already satisfied: lit in /home/luizhlc/miniconda3/lib/python3.10/site-packages (from triton==2.0.0->torch) (16.0.6)\n",
      "Requirement already satisfied: MarkupSafe>=2.0 in /home/luizhlc/miniconda3/lib/python3.10/site-packages (from jinja2->torch) (2.1.1)\n",
      "Requirement already satisfied: mpmath>=0.19 in /home/luizhlc/miniconda3/lib/python3.10/site-packages (from sympy->torch) (1.3.0)\n",
      "Requirement already satisfied: torchvision in /home/luizhlc/miniconda3/lib/python3.10/site-packages (0.15.2)\n",
      "Requirement already satisfied: requests in /home/luizhlc/miniconda3/lib/python3.10/site-packages (from torchvision) (2.28.1)\n",
      "Requirement already satisfied: numpy in /home/luizhlc/miniconda3/lib/python3.10/site-packages (from torchvision) (1.25.0)\n",
      "Requirement already satisfied: torch==2.0.1 in /home/luizhlc/miniconda3/lib/python3.10/site-packages (from torchvision) (2.0.1)\n",
      "Requirement already satisfied: pillow!=8.3.*,>=5.3.0 in /home/luizhlc/miniconda3/lib/python3.10/site-packages (from torchvision) (9.5.0)\n",
      "Requirement already satisfied: nvidia-cublas-cu11==11.10.3.66 in /home/luizhlc/miniconda3/lib/python3.10/site-packages (from torch==2.0.1->torchvision) (11.10.3.66)\n",
      "Requirement already satisfied: filelock in /home/luizhlc/miniconda3/lib/python3.10/site-packages (from torch==2.0.1->torchvision) (3.12.2)\n",
      "Requirement already satisfied: nvidia-cusolver-cu11==11.4.0.1 in /home/luizhlc/miniconda3/lib/python3.10/site-packages (from torch==2.0.1->torchvision) (11.4.0.1)\n",
      "Requirement already satisfied: nvidia-curand-cu11==10.2.10.91 in /home/luizhlc/miniconda3/lib/python3.10/site-packages (from torch==2.0.1->torchvision) (10.2.10.91)\n",
      "Requirement already satisfied: nvidia-cuda-cupti-cu11==11.7.101 in /home/luizhlc/miniconda3/lib/python3.10/site-packages (from torch==2.0.1->torchvision) (11.7.101)\n",
      "Requirement already satisfied: nvidia-nvtx-cu11==11.7.91 in /home/luizhlc/miniconda3/lib/python3.10/site-packages (from torch==2.0.1->torchvision) (11.7.91)\n",
      "Requirement already satisfied: triton==2.0.0 in /home/luizhlc/miniconda3/lib/python3.10/site-packages (from torch==2.0.1->torchvision) (2.0.0)\n",
      "Requirement already satisfied: nvidia-cufft-cu11==10.9.0.58 in /home/luizhlc/miniconda3/lib/python3.10/site-packages (from torch==2.0.1->torchvision) (10.9.0.58)\n",
      "Requirement already satisfied: jinja2 in /home/luizhlc/miniconda3/lib/python3.10/site-packages (from torch==2.0.1->torchvision) (3.1.2)\n",
      "Requirement already satisfied: nvidia-cusparse-cu11==11.7.4.91 in /home/luizhlc/miniconda3/lib/python3.10/site-packages (from torch==2.0.1->torchvision) (11.7.4.91)\n",
      "Requirement already satisfied: nvidia-cuda-runtime-cu11==11.7.99 in /home/luizhlc/miniconda3/lib/python3.10/site-packages (from torch==2.0.1->torchvision) (11.7.99)\n",
      "Requirement already satisfied: nvidia-nccl-cu11==2.14.3 in /home/luizhlc/miniconda3/lib/python3.10/site-packages (from torch==2.0.1->torchvision) (2.14.3)\n",
      "Requirement already satisfied: networkx in /home/luizhlc/miniconda3/lib/python3.10/site-packages (from torch==2.0.1->torchvision) (3.1)\n",
      "Requirement already satisfied: typing-extensions in /home/luizhlc/miniconda3/lib/python3.10/site-packages (from torch==2.0.1->torchvision) (4.6.3)\n",
      "Requirement already satisfied: sympy in /home/luizhlc/miniconda3/lib/python3.10/site-packages (from torch==2.0.1->torchvision) (1.12)\n",
      "Requirement already satisfied: nvidia-cuda-nvrtc-cu11==11.7.99 in /home/luizhlc/miniconda3/lib/python3.10/site-packages (from torch==2.0.1->torchvision) (11.7.99)\n",
      "Requirement already satisfied: nvidia-cudnn-cu11==8.5.0.96 in /home/luizhlc/miniconda3/lib/python3.10/site-packages (from torch==2.0.1->torchvision) (8.5.0.96)\n",
      "Requirement already satisfied: wheel in /home/luizhlc/miniconda3/lib/python3.10/site-packages (from nvidia-cublas-cu11==11.10.3.66->torch==2.0.1->torchvision) (0.38.4)\n",
      "Requirement already satisfied: setuptools in /home/luizhlc/miniconda3/lib/python3.10/site-packages (from nvidia-cublas-cu11==11.10.3.66->torch==2.0.1->torchvision) (65.6.3)\n",
      "Requirement already satisfied: lit in /home/luizhlc/miniconda3/lib/python3.10/site-packages (from triton==2.0.0->torch==2.0.1->torchvision) (16.0.6)\n",
      "Requirement already satisfied: cmake in /home/luizhlc/miniconda3/lib/python3.10/site-packages (from triton==2.0.0->torch==2.0.1->torchvision) (3.27.0)\n",
      "Requirement already satisfied: idna<4,>=2.5 in /home/luizhlc/miniconda3/lib/python3.10/site-packages (from requests->torchvision) (3.4)\n",
      "Requirement already satisfied: charset-normalizer<3,>=2 in /home/luizhlc/miniconda3/lib/python3.10/site-packages (from requests->torchvision) (2.0.4)\n",
      "Requirement already satisfied: urllib3<1.27,>=1.21.1 in /home/luizhlc/miniconda3/lib/python3.10/site-packages (from requests->torchvision) (1.26.15)\n",
      "Requirement already satisfied: certifi>=2017.4.17 in /home/luizhlc/miniconda3/lib/python3.10/site-packages (from requests->torchvision) (2023.5.7)\n",
      "Requirement already satisfied: MarkupSafe>=2.0 in /home/luizhlc/miniconda3/lib/python3.10/site-packages (from jinja2->torch==2.0.1->torchvision) (2.1.1)\n",
      "Requirement already satisfied: mpmath>=0.19 in /home/luizhlc/miniconda3/lib/python3.10/site-packages (from sympy->torch==2.0.1->torchvision) (1.3.0)\n"
     ]
    }
   ],
   "source": [
    "!pip install torch\n",
    "!pip install torchvision"
   ]
  },
  {
   "cell_type": "code",
   "execution_count": 2,
   "id": "0fb69204-037a-437c-a943-fa0845fb624f",
   "metadata": {},
   "outputs": [],
   "source": [
    "import torch\n",
    "import numpy as np\n",
    "import torch.nn as nn\n",
    "import matplotlib.pyplot as plt\n",
    "from mls import mls\n",
    "import json"
   ]
  },
  {
   "cell_type": "code",
   "execution_count": 3,
   "id": "6da60347-cfde-45ed-a4e5-5c44b3757c26",
   "metadata": {},
   "outputs": [],
   "source": [
    "train_dataset = mls.CustomDataSet(\"./dataset/processed/train_data.csv\")\n",
    "val_dataset = mls.CustomDataSet(\"./dataset/processed/test_data.csv\")"
   ]
  },
  {
   "cell_type": "code",
   "execution_count": 4,
   "id": "ad19b82a-13d8-4778-b33d-c0524eeade33",
   "metadata": {},
   "outputs": [],
   "source": [
    "batch_size = 16\n",
    "shuffle_dataset = True\n",
    "num_epochs = 150\n",
    "in_features = len(train_dataset[0][0])\n",
    "out_classes = 5\n",
    "save_model = True\n",
    "save_interval = 10\n",
    "model_p = './checkpoints/'"
   ]
  },
  {
   "cell_type": "code",
   "execution_count": 5,
   "id": "1e8ca51f-95ef-46cf-adbb-64a404c6825f",
   "metadata": {
    "scrolled": true
   },
   "outputs": [],
   "source": [
    "train_loader = torch.utils.data.DataLoader(train_dataset, batch_size=batch_size, shuffle=True)\n",
    "validation_loader = torch.utils.data.DataLoader(val_dataset, batch_size=1, shuffle=True)"
   ]
  },
  {
   "cell_type": "code",
   "execution_count": 6,
   "id": "d4ca2e49-f117-430b-b648-d357d45d8036",
   "metadata": {},
   "outputs": [],
   "source": [
    "model = mls.MVC(in_features).double()\n",
    "learning_rate = 0.1\n",
    "loss_f = nn.CrossEntropyLoss()\n",
    "optimizer = torch.optim.Adam(model.parameters())\n",
    "scheduler = torch.optim.lr_scheduler.ReduceLROnPlateau(optimizer, mode='min')"
   ]
  },
  {
   "cell_type": "code",
   "execution_count": null,
   "id": "38157ae1-a839-41a9-bad7-d141913cf8fc",
   "metadata": {},
   "outputs": [
    {
     "name": "stdout",
     "output_type": "stream",
     "text": [
      "e0: Train Loss: 0.5024; Val Loss: 0.2443 acc: 91.5333\n",
      "e1: Train Loss: 0.2207; Val Loss: 0.1993 acc: 93.1333\n",
      "e2: Train Loss: 0.1902; Val Loss: 0.1758 acc: 93.9200\n",
      "e3: Train Loss: 0.1760; Val Loss: 0.1653 acc: 93.9867\n",
      "e4: Train Loss: 0.1612; Val Loss: 0.1945 acc: 92.6133\n",
      "e5: Train Loss: 0.1505; Val Loss: 0.2068 acc: 92.2400\n",
      "e6: Train Loss: 0.1382; Val Loss: 0.1615 acc: 93.7867\n",
      "e7: Train Loss: 0.1341; Val Loss: 0.2029 acc: 92.3067\n",
      "e8: Train Loss: 0.1276; Val Loss: 0.1349 acc: 95.1333\n",
      "e9: Train Loss: 0.1164; Val Loss: 0.1750 acc: 93.9600\n",
      "e10: Train Loss: 0.1106; Val Loss: 0.1378 acc: 95.0533\n",
      "e11: Train Loss: 0.1035; Val Loss: 0.1269 acc: 95.4000\n",
      "e12: Train Loss: 0.0975; Val Loss: 0.1740 acc: 93.9733\n",
      "e13: Train Loss: 0.0901; Val Loss: 0.1379 acc: 94.9867\n",
      "e14: Train Loss: 0.0848; Val Loss: 0.1385 acc: 95.1467\n",
      "e15: Train Loss: 0.0806; Val Loss: 0.1256 acc: 95.7333\n",
      "e16: Train Loss: 0.0742; Val Loss: 0.1357 acc: 95.2533\n",
      "e17: Train Loss: 0.0710; Val Loss: 0.1127 acc: 96.2000\n",
      "e18: Train Loss: 0.0666; Val Loss: 0.1164 acc: 96.0000\n",
      "e19: Train Loss: 0.0637; Val Loss: 0.1184 acc: 96.0800\n",
      "e20: Train Loss: 0.0579; Val Loss: 0.1432 acc: 95.4933\n",
      "e21: Train Loss: 0.0566; Val Loss: 0.1543 acc: 95.1733\n",
      "e22: Train Loss: 0.0520; Val Loss: 0.1166 acc: 96.2667\n",
      "e23: Train Loss: 0.0489; Val Loss: 0.1292 acc: 96.1467\n",
      "e24: Train Loss: 0.0495; Val Loss: 0.1569 acc: 95.5733\n",
      "e25: Train Loss: 0.0459; Val Loss: 0.1204 acc: 96.5467\n",
      "e26: Train Loss: 0.0449; Val Loss: 0.1342 acc: 96.1467\n",
      "e27: Train Loss: 0.0398; Val Loss: 0.1411 acc: 96.0267\n",
      "e28: Train Loss: 0.0396; Val Loss: 0.1319 acc: 96.0800\n",
      "e29: Train Loss: 0.0202; Val Loss: 0.1146 acc: 96.5867\n",
      "e30: Train Loss: 0.0181; Val Loss: 0.1144 acc: 96.6800\n",
      "e31: Train Loss: 0.0173; Val Loss: 0.1174 acc: 96.6933\n",
      "e32: Train Loss: 0.0167; Val Loss: 0.1202 acc: 96.8400\n",
      "e33: Train Loss: 0.0161; Val Loss: 0.1227 acc: 96.7200\n",
      "e34: Train Loss: 0.0158; Val Loss: 0.1204 acc: 96.7333\n",
      "e35: Train Loss: 0.0153; Val Loss: 0.1246 acc: 96.8400\n",
      "e36: Train Loss: 0.0151; Val Loss: 0.1235 acc: 96.8267\n",
      "e37: Train Loss: 0.0148; Val Loss: 0.1258 acc: 96.8533\n",
      "e38: Train Loss: 0.0145; Val Loss: 0.1246 acc: 96.8933\n",
      "e39: Train Loss: 0.0142; Val Loss: 0.1286 acc: 96.9067\n",
      "e40: Train Loss: 0.0134; Val Loss: 0.1270 acc: 96.8667\n",
      "e41: Train Loss: 0.0132; Val Loss: 0.1273 acc: 96.8800\n",
      "e42: Train Loss: 0.0132; Val Loss: 0.1274 acc: 96.8800\n",
      "e43: Train Loss: 0.0132; Val Loss: 0.1279 acc: 96.8267\n"
     ]
    }
   ],
   "source": [
    "train_loss = []\n",
    "train_acc = []\n",
    "val_loss = []\n",
    "val_acc = []\n",
    "lrs = []\n",
    "best_loss = np.inf\n",
    "for epoch in range(num_epochs):\n",
    "    t_loss, t_acc = mls.training_epoch(model, optimizer, loss_f, train_loader)\n",
    "    t_loss = t_loss/len(train_dataset)\n",
    "    t_acc = 100*(t_acc/len(train_dataset))\n",
    "    \n",
    "    v_loss, v_acc = mls.validation_epoch(model, loss_f, validation_loader)\n",
    "    v_loss = v_loss/len(val_dataset)\n",
    "    v_acc = 100*(v_acc/len(val_dataset))\n",
    "    \n",
    "    train_loss.append(t_loss)\n",
    "    val_loss.append(v_loss)\n",
    "    train_acc.append(t_acc)\n",
    "    val_acc.append(v_loss)\n",
    "    lrs.append(optimizer.param_groups[0]['lr'])\n",
    "    scheduler.step(v_loss)\n",
    "    \n",
    "    if epoch%save_interval==0 and save_model:\n",
    "        isBest = v_loss<best_loss\n",
    "        mls.save_model(model_p, epoch, model, optimizer, v_loss, isBest) \n",
    "        \n",
    "    print(f'e{epoch}: Train Loss: {t_loss:.04f}; Val Loss: {v_loss:.04f} acc: {v_acc:.04f}')\n",
    "        "
   ]
  },
  {
   "cell_type": "code",
   "execution_count": null,
   "id": "3c0b1f30-0f92-413f-a699-d36ce6b08965",
   "metadata": {},
   "outputs": [],
   "source": [
    "with open(f'{model_p}/log.json', 'w') as fout:\n",
    "    training_info ={\n",
    "        'train_loss':train_loss,\n",
    "        'train_acc':train_acc,\n",
    "        'val_loss':val_loss,\n",
    "        'val_acc':val_acc,\n",
    "        'lrs':lrs,\n",
    "    }\n",
    "    json_dumps_str = json.dumps(training_info, indent=4)\n",
    "    print(json_dumps_str, file=fout)"
   ]
  },
  {
   "cell_type": "code",
   "execution_count": null,
   "id": "ff00d51b-b77d-4b9b-9664-45e238dfa06a",
   "metadata": {},
   "outputs": [],
   "source": [
    "import matplotlib.pyplot as plt\n",
    "fig, axs = plt.subplots(3, 1, figsize=(20,5))\n",
    "axs[0].plot(train_loss, color='blue')\n",
    "axs[0].plot(val_loss, color='black')\n",
    "\n",
    "axs[1].plot(train_acc, color='blue')\n",
    "axs[1].plot(val_acc, color='black')\n",
    "\n",
    "axs[2].plot(lrs, color='black')"
   ]
  }
 ],
 "metadata": {
  "kernelspec": {
   "display_name": "Python 3 (ipykernel)",
   "language": "python",
   "name": "python3"
  },
  "language_info": {
   "codemirror_mode": {
    "name": "ipython",
    "version": 3
   },
   "file_extension": ".py",
   "mimetype": "text/x-python",
   "name": "python",
   "nbconvert_exporter": "python",
   "pygments_lexer": "ipython3",
   "version": "3.10.10"
  }
 },
 "nbformat": 4,
 "nbformat_minor": 5
}
