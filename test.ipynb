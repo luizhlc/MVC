{
 "cells": [
  {
   "cell_type": "code",
   "execution_count": 2,
   "id": "fa22fdb1-1a4a-4099-8eff-1d69cc053dfe",
   "metadata": {
    "tags": []
   },
   "outputs": [
    {
     "name": "stdout",
     "output_type": "stream",
     "text": [
      "Requirement already satisfied: scikit-learn in /home/luizhlc/anaconda3/envs/theseus_nn/lib/python3.7/site-packages (1.0.2)\n",
      "Requirement already satisfied: numpy>=1.14.6 in /home/luizhlc/anaconda3/envs/theseus_nn/lib/python3.7/site-packages (from scikit-learn) (1.20.1)\n",
      "Requirement already satisfied: scipy>=1.1.0 in /home/luizhlc/anaconda3/envs/theseus_nn/lib/python3.7/site-packages (from scikit-learn) (1.6.2)\n",
      "Requirement already satisfied: threadpoolctl>=2.0.0 in /home/luizhlc/anaconda3/envs/theseus_nn/lib/python3.7/site-packages (from scikit-learn) (3.1.0)\n",
      "Requirement already satisfied: joblib>=0.11 in /home/luizhlc/anaconda3/envs/theseus_nn/lib/python3.7/site-packages (from scikit-learn) (1.2.0)\n"
     ]
    }
   ],
   "source": [
    "!pip install -U scikit-learn"
   ]
  },
  {
   "cell_type": "markdown",
   "id": "61497fdb-2dd0-4bd3-85ac-8ad5367c31df",
   "metadata": {},
   "source": [
    "* Desenvolva o Pipeline completo de um projeto de Aprendizado de Máquina, desde a Análise e preparação dos dados adquiridos até a disponibilização do algoritmo no GitHub.\n",
    "\n",
    "* é disponibilizado seis (6) arquivos com extensão .npy. Sabe-se que cada arquivo foi adquirido por um sensor, os dados são oriundos de uma máquina com motor elétrico, os quais foram aquisitados a uma taxa de 10 KHz. Os dados de todos os sensores, foram adquiridos de forma simultânea, ou seja, no mesmo instante de tempo. O arquivo Classes.npy possui diferentes estados de funcionamento dessa máquina, podendo ou não possuir diferentes falhas e/ou funcionamento normal.\n",
    "\n",
    "* Link para o drive com os dados: https://drive.google.com/drive/folders/1ztWi2pHqbbIU-wMMTydq9vssuJmWFPjS\n",
    "\n",
    "OBS: sensores, são dispositivos capazes de medir grandezas físicas, tem seu funcionamento com base em sinais elétricos, em ambiente industrial podem captar sinais de ruídos e até mesmo entrarem em falha."
   ]
  },
  {
   "cell_type": "code",
   "execution_count": 1,
   "id": "bc023c86-6c72-47ae-975c-104a6e80ebaa",
   "metadata": {},
   "outputs": [],
   "source": [
    "import glob\n",
    "from scipy.io import loadmat\n",
    "from numpy import asarray\n",
    "import matplotlib.pyplot as plt\n",
    "import numpy as np\n",
    "from scipy import signal\n",
    "import scipy\n",
    "import re\n",
    "import os\n",
    "import pandas as pd\n",
    "import pywt\n",
    "from scipy.fftpack import fft\n",
    "from warnings import warn\n",
    "from sklearn import metrics\n",
    "\n",
    "import warnings \n",
    "warnings.filterwarnings('ignore')"
   ]
  },
  {
   "cell_type": "markdown",
   "id": "81d0bf24-42bb-47a7-a5b2-4cdc0885a08d",
   "metadata": {},
   "source": [
    "* São 50000 samples\n",
    "    * São 5 classes e o dataset está balanceado\n",
    "* cada dado em sensors tem 50000 samples\n",
    "    * os primeiros 3 possuem 201 valores\n",
    "    * os últimos 3 possuem 200 valores "
   ]
  },
  {
   "cell_type": "code",
   "execution_count": 3,
   "id": "6fbf17d3-4acd-4f39-a2e4-61ae53a75012",
   "metadata": {},
   "outputs": [],
   "source": [
    "n_sensors = 5\n",
    "n_samples = 50000\n",
    "classes = np.load('./dataset/Classes.npy', allow_pickle=True)\n",
    "classes_k = ['Classe A','Classe B', 'Classe C','Classe D','Classe E']"
   ]
  },
  {
   "cell_type": "code",
   "execution_count": 4,
   "id": "5ed0d53d-6778-476e-9be0-ada2db6f6d6f",
   "metadata": {},
   "outputs": [
    {
     "name": "stdout",
     "output_type": "stream",
     "text": [
      "(50000, 1)\n",
      "Classe D    10000\n",
      "Classe A    10000\n",
      "Classe B    10000\n",
      "Classe E    10000\n",
      "Classe C    10000\n",
      "Name: classe, dtype: int64\n"
     ]
    }
   ],
   "source": [
    "print(classes.shape)\n",
    "df = pd.DataFrame(data=classes, columns=[\"classe\"])\n",
    "print(df['classe'].value_counts())"
   ]
  },
  {
   "cell_type": "markdown",
   "id": "d4315a56-d81b-4d07-ba84-fd6b012af3cf",
   "metadata": {},
   "source": [
    "# Remoção de NaN:\n",
    "* Para toda a posição onde há NaN, realiza uma interpolação do sinal e gera os valores\n",
    "    * Nos sensores 1, 2, 3 e 5, parece ser um valor de vibração\n",
    "        * Gerei um valor interpolado\n",
    "    * no Sensor 4, o valor é sempre 50.0 em todo o dataset\n",
    "        * Se foi falha de captura, esse sensor não tem qualquer informação relevante\n",
    "        * Se não foi falha de captura, é melhor manter o valor\n",
    "        * Na dúvida, NaN será colocado como 0 no sinal.\n"
   ]
  },
  {
   "cell_type": "code",
   "execution_count": 5,
   "id": "28dd8bbd-9a98-4806-9314-2a3d7dffd056",
   "metadata": {
    "tags": []
   },
   "outputs": [],
   "source": [
    "def fill_the_gaps(data):\n",
    "    ok = np.invert(np.isnan(data))\n",
    "    xp = ok.ravel().nonzero()[0]\n",
    "    fp = data[np.invert(np.isnan(data))]\n",
    "    x  = np.isnan(data).ravel().nonzero()[0]\n",
    "    data[np.isnan(data)] = np.interp(x, xp, fp)\n",
    "    return data"
   ]
  },
  {
   "cell_type": "code",
   "execution_count": 8,
   "id": "9da02461-02ed-40fd-8045-6b1186346dfc",
   "metadata": {
    "tags": []
   },
   "outputs": [],
   "source": [
    "sensor_data = []\n",
    "for i in range(n_sensors):\n",
    "    sensor_data.append(np.load(f'./dataset/Dados_{i+1}.npy', allow_pickle=True))\n",
    "for i in [0,1,2,4]:\n",
    "    for j in range(n_samples):\n",
    "        sensor_data[i][j] = fill_the_gaps(sensor_data[i][j])\n",
    "\n",
    "for j in range(n_samples):\n",
    "    sensor_data[3][j] = np.nan_to_num(sensor_data[3][j], nan=0)"
   ]
  },
  {
   "cell_type": "code",
   "execution_count": 9,
   "id": "2906530f-74ca-4509-b97e-74fcdafc9044",
   "metadata": {
    "tags": []
   },
   "outputs": [],
   "source": [
    "d_map ={}\n",
    "for ck in classes_k:\n",
    "    d_map[ck] = []\n",
    "    for s in range(n_sensors):\n",
    "        d_map[ck].append(sensor_data[s][(classes==ck).flatten()])"
   ]
  },
  {
   "cell_type": "code",
   "execution_count": 13,
   "id": "7087c576-25f5-464c-bb3d-a4ee4da1baad",
   "metadata": {
    "tags": []
   },
   "outputs": [
    {
     "name": "stdout",
     "output_type": "stream",
     "text": [
      "Por Classe:\n",
      "Classe A_s0: -0.500583548307494, 3.0\n",
      "Classe A_s1: -1.239735330040627, 5.0\n",
      "Classe A_s2: -1.4939143838578246, 5.0\n",
      "Classe A_s3: 0.0, 50.0\n",
      "Classe A_s4: -19.858602870009083, 139.85894522385962\n",
      "\n",
      "\n",
      "Classe B_s0: -0.44908397404783623, 5.0\n",
      "Classe B_s1: -1.188724617411255, 4.0\n",
      "Classe B_s2: -1.557491418788932, 5.0\n",
      "Classe B_s3: 0.0, 50.0\n",
      "Classe B_s4: -19.959756580177167, 139.85206665754947\n",
      "\n",
      "\n",
      "Classe C_s0: -0.38018984209420753, 5.0\n",
      "Classe C_s1: -0.8765107971159641, 5.0\n",
      "Classe C_s2: -1.065159994223182, 5.0\n",
      "Classe C_s3: 0.0, 50.0\n",
      "Classe C_s4: -19.9475593405161, 139.99831052645226\n",
      "\n",
      "\n",
      "Classe D_s0: -0.41449470775403624, 5.0\n",
      "Classe D_s1: -0.9802582694655667, 5.0\n",
      "Classe D_s2: -1.4092966639934001, 5.0\n",
      "Classe D_s3: 0.0, 50.0\n",
      "Classe D_s4: -19.947602225929288, 139.91842472367367\n",
      "\n",
      "\n",
      "Classe E_s0: -0.4410823237785372, 5.0\n",
      "Classe E_s1: -0.8610807389362894, 5.0\n",
      "Classe E_s2: -1.459181372335915, 5.0\n",
      "Classe E_s3: 0.0, 50.0\n",
      "Classe E_s4: -19.964571047700915, 139.8746937044742\n",
      "\n",
      "\n",
      "Por Sensor:\n",
      "s0 -0.500583548307494 5.0\n",
      "s1 -1.239735330040627 5.0\n",
      "s2 -1.557491418788932 5.0\n",
      "s3 0.0 50.0\n",
      "s4 -19.964571047700915 139.99831052645226\n"
     ]
    }
   ],
   "source": [
    "print(\"Por Classe:\")\n",
    "for ck in classes_k:\n",
    "    for s in range(n_sensors):\n",
    "        print(f'{ck}_s{s}: {np.min(np.min(d_map[ck][s]))}, {np.max(np.max(d_map[ck][s]))}')\n",
    "    print('\\n')\n",
    "print(\"Por Sensor:\")\n",
    "for i, s in enumerate(sensor_data):\n",
    "    print(f\"s{i}\", np.min(np.min(s)), np.max(np.max(s)))\n"
   ]
  },
  {
   "cell_type": "markdown",
   "id": "42f2c072-ca59-4a5c-af56-0d0c30eff543",
   "metadata": {},
   "source": [
    "* Os ranges por classe não apresentam muita informação útil\n",
    "* Por sensor, parece ser possível considerar alguns limites:\n",
    "    * s0, s1 e s2: [-2.0, 5.0]\n",
    "    * s3: nan ou 50.0\n",
    "    * s4 -20., 140.\n",
    "    \n",
    "    "
   ]
  },
  {
   "cell_type": "code",
   "execution_count": 1,
   "id": "87cd4a24-177c-459f-abbb-1b4ba8c19637",
   "metadata": {},
   "outputs": [
    {
     "ename": "NameError",
     "evalue": "name 'plt' is not defined",
     "output_type": "error",
     "traceback": [
      "\u001b[0;31m---------------------------------------------------------------------------\u001b[0m",
      "\u001b[0;31mNameError\u001b[0m                                 Traceback (most recent call last)",
      "\u001b[0;32m/tmp/ipykernel_80106/2601796685.py\u001b[0m in \u001b[0;36m<module>\u001b[0;34m\u001b[0m\n\u001b[0;32m----> 1\u001b[0;31m \u001b[0mfig\u001b[0m \u001b[0;34m=\u001b[0m \u001b[0mplt\u001b[0m\u001b[0;34m.\u001b[0m\u001b[0msubplots\u001b[0m\u001b[0;34m(\u001b[0m\u001b[0mfigsize\u001b[0m\u001b[0;34m=\u001b[0m\u001b[0;34m(\u001b[0m\u001b[0;36m16\u001b[0m\u001b[0;34m,\u001b[0m \u001b[0;36m5\u001b[0m\u001b[0;34m)\u001b[0m\u001b[0;34m)\u001b[0m\u001b[0;34m\u001b[0m\u001b[0;34m\u001b[0m\u001b[0m\n\u001b[0m\u001b[1;32m      2\u001b[0m \u001b[0mplt\u001b[0m\u001b[0;34m.\u001b[0m\u001b[0mplot\u001b[0m\u001b[0;34m(\u001b[0m\u001b[0msensor_data\u001b[0m\u001b[0;34m[\u001b[0m\u001b[0;36m0\u001b[0m\u001b[0;34m]\u001b[0m\u001b[0;34m[\u001b[0m\u001b[0;36m0\u001b[0m\u001b[0;34m]\u001b[0m\u001b[0;34m)\u001b[0m\u001b[0;34m\u001b[0m\u001b[0;34m\u001b[0m\u001b[0m\n\u001b[1;32m      3\u001b[0m \u001b[0mplt\u001b[0m\u001b[0;34m.\u001b[0m\u001b[0mplot\u001b[0m\u001b[0;34m(\u001b[0m\u001b[0msensor_data\u001b[0m\u001b[0;34m[\u001b[0m\u001b[0;36m1\u001b[0m\u001b[0;34m]\u001b[0m\u001b[0;34m[\u001b[0m\u001b[0;36m0\u001b[0m\u001b[0;34m]\u001b[0m\u001b[0;34m)\u001b[0m\u001b[0;34m\u001b[0m\u001b[0;34m\u001b[0m\u001b[0m\n\u001b[1;32m      4\u001b[0m \u001b[0mplt\u001b[0m\u001b[0;34m.\u001b[0m\u001b[0mplot\u001b[0m\u001b[0;34m(\u001b[0m\u001b[0msensor_data\u001b[0m\u001b[0;34m[\u001b[0m\u001b[0;36m2\u001b[0m\u001b[0;34m]\u001b[0m\u001b[0;34m[\u001b[0m\u001b[0;36m0\u001b[0m\u001b[0;34m]\u001b[0m\u001b[0;34m)\u001b[0m\u001b[0;34m\u001b[0m\u001b[0;34m\u001b[0m\u001b[0m\n",
      "\u001b[0;31mNameError\u001b[0m: name 'plt' is not defined"
     ]
    }
   ],
   "source": [
    "fig = plt.subplots(figsize=(16, 5))\n",
    "plt.plot(sensor_data[0][0])\n",
    "plt.plot(sensor_data[1][0])\n",
    "plt.plot(sensor_data[2][0])"
   ]
  },
  {
   "cell_type": "markdown",
   "id": "bbc2ba50-140b-407f-bb05-665080e44f8b",
   "metadata": {},
   "source": [
    "10 KHz\n",
    "200 Samples...\n"
   ]
  },
  {
   "cell_type": "raw",
   "id": "a798d627-3745-4d9a-802a-3bc26a991988",
   "metadata": {},
   "source": [
    "Calcular:\n",
    "RMS, freq, amplitude, fft..."
   ]
  },
  {
   "cell_type": "code",
   "execution_count": null,
   "id": "ac1fbfe8-7e13-4e74-8ecc-ad1e3529232f",
   "metadata": {
    "tags": []
   },
   "outputs": [],
   "source": [
    "# Function for FFT\n",
    "\n",
    "def apply_fft(x, fs, num_samples):\n",
    "    f = np.linspace(0.0, (fs/2.0), num_samples//2)\n",
    "    freq_values = fft(x)\n",
    "    freq_values = 2.0/num_samples * np.abs(freq_values[0:num_samples//2])\n",
    "    return f, freq_values"
   ]
  },
  {
   "cell_type": "code",
   "execution_count": null,
   "id": "70fb0692-2917-46b6-a017-f48e94f8610f",
   "metadata": {
    "tags": []
   },
   "outputs": [],
   "source": [
    "from scipy import fftpack\n",
    "from scipy.signal import butter,filtfilt\n",
    "sig_noise_fft = scipy.fftpack.fft(sensor_data[0][1])\n",
    "sig_noise_amp = 2 / time.size * np.abs(sig_noise_fft)\n",
    "sig_noise_freq = np.abs(scipy.fftpack.fftfreq(time.size, 3/1000))"
   ]
  },
  {
   "cell_type": "code",
   "execution_count": null,
   "id": "f572e36c-7263-47a3-a9bf-fc3a8e012b38",
   "metadata": {},
   "outputs": [],
   "source": []
  }
 ],
 "metadata": {
  "kernelspec": {
   "display_name": "Python 3 (ipykernel)",
   "language": "python",
   "name": "python3"
  },
  "language_info": {
   "codemirror_mode": {
    "name": "ipython",
    "version": 3
   },
   "file_extension": ".py",
   "mimetype": "text/x-python",
   "name": "python",
   "nbconvert_exporter": "python",
   "pygments_lexer": "ipython3",
   "version": "3.7.10"
  }
 },
 "nbformat": 4,
 "nbformat_minor": 5
}
