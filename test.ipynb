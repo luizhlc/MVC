{
 "cells": [
  {
   "cell_type": "raw",
   "id": "f20775e7-863c-4997-91b9-ca17cea89f90",
   "metadata": {
    "tags": []
   },
   "source": [
    "!pip install -U scikit-learn"
   ]
  },
  {
   "cell_type": "markdown",
   "id": "61497fdb-2dd0-4bd3-85ac-8ad5367c31df",
   "metadata": {},
   "source": [
    "* Desenvolva o Pipeline completo de um projeto de Aprendizado de Máquina, desde a Análise e preparação dos dados adquiridos até a disponibilização do algoritmo no GitHub.\n",
    "\n",
    "* é disponibilizado seis (6) arquivos com extensão .npy. Sabe-se que cada arquivo foi adquirido por um sensor, os dados são oriundos de uma máquina com motor elétrico, os quais foram aquisitados a uma taxa de 10 KHz. Os dados de todos os sensores, foram adquiridos de forma simultânea, ou seja, no mesmo instante de tempo. O arquivo Classes.npy possui diferentes estados de funcionamento dessa máquina, podendo ou não possuir diferentes falhas e/ou funcionamento normal.\n",
    "\n",
    "* Link para o drive com os dados: https://drive.google.com/drive/folders/1ztWi2pHqbbIU-wMMTydq9vssuJmWFPjS\n",
    "\n",
    "OBS: sensores, são dispositivos capazes de medir grandezas físicas, tem seu funcionamento com base em sinais elétricos, em ambiente industrial podem captar sinais de ruídos e até mesmo entrarem em falha."
   ]
  },
  {
   "cell_type": "code",
   "execution_count": 17,
   "id": "bc023c86-6c72-47ae-975c-104a6e80ebaa",
   "metadata": {},
   "outputs": [],
   "source": [
    "import glob\n",
    "from scipy.io import loadmat\n",
    "from numpy import asarray\n",
    "import matplotlib.pyplot as plt\n",
    "import numpy as np\n",
    "from scipy import signal\n",
    "import scipy\n",
    "import re\n",
    "import os\n",
    "import pandas as pd\n",
    "import pywt\n",
    "from scipy.fftpack import fft\n",
    "from warnings import warn\n",
    "from sklearn import metrics\n",
    "from tqdm.notebook import tqdm\n",
    "import warnings \n",
    "warnings.filterwarnings('ignore')"
   ]
  },
  {
   "cell_type": "markdown",
   "id": "81d0bf24-42bb-47a7-a5b2-4cdc0885a08d",
   "metadata": {},
   "source": [
    "* São 50000 samples\n",
    "    * São 5 classes e o dataset está balanceado\n",
    "* cada dado em sensors tem 50000 samples\n",
    "    * os primeiros 3 possuem 201 valores\n",
    "    * os últimos 3 possuem 200 valores "
   ]
  },
  {
   "cell_type": "code",
   "execution_count": 2,
   "id": "6fbf17d3-4acd-4f39-a2e4-61ae53a75012",
   "metadata": {},
   "outputs": [],
   "source": [
    "n_sensors = 5\n",
    "n_samples = 50000\n",
    "classes = np.load('./dataset/Classes.npy', allow_pickle=True)\n",
    "classes_k = ['Classe A','Classe B', 'Classe C','Classe D','Classe E']"
   ]
  },
  {
   "cell_type": "code",
   "execution_count": 3,
   "id": "5ed0d53d-6778-476e-9be0-ada2db6f6d6f",
   "metadata": {},
   "outputs": [
    {
     "name": "stdout",
     "output_type": "stream",
     "text": [
      "(50000, 1)\n",
      "Classe D    10000\n",
      "Classe A    10000\n",
      "Classe B    10000\n",
      "Classe E    10000\n",
      "Classe C    10000\n",
      "Name: classe, dtype: int64\n"
     ]
    }
   ],
   "source": [
    "print(classes.shape)\n",
    "df = pd.DataFrame(data=classes, columns=[\"classe\"])\n",
    "print(df['classe'].value_counts())"
   ]
  },
  {
   "cell_type": "markdown",
   "id": "d4315a56-d81b-4d07-ba84-fd6b012af3cf",
   "metadata": {},
   "source": [
    "# Remoção de NaN:\n",
    "* Para toda a posição onde há NaN, realiza uma interpolação do sinal e gera os valores\n",
    "    * Nos sensores 0, 1, 2 e 4, parece ser um valor de vibração\n",
    "        * Gerei um valor interpolado\n",
    "    * no Sensor 3, o valor é sempre 50.0 em todo o dataset\n",
    "        * Se foi falha de captura, esse sensor não tem qualquer informação relevante\n",
    "        * Se não foi falha de captura, é melhor manter o valor\n",
    "        * Na dúvida, NaN será colocado como 0 no sinal.\n"
   ]
  },
  {
   "cell_type": "code",
   "execution_count": 4,
   "id": "28dd8bbd-9a98-4806-9314-2a3d7dffd056",
   "metadata": {
    "tags": []
   },
   "outputs": [],
   "source": [
    "def fill_the_gaps(data):\n",
    "    ok = np.invert(np.isnan(data))\n",
    "    xp = ok.ravel().nonzero()[0]\n",
    "    fp = data[np.invert(np.isnan(data))]\n",
    "    x  = np.isnan(data).ravel().nonzero()[0]\n",
    "    data[np.isnan(data)] = np.interp(x, xp, fp)\n",
    "    return data"
   ]
  },
  {
   "cell_type": "code",
   "execution_count": 5,
   "id": "9da02461-02ed-40fd-8045-6b1186346dfc",
   "metadata": {
    "tags": []
   },
   "outputs": [],
   "source": [
    "sensor_data = []\n",
    "for i in range(n_sensors):\n",
    "    sensor_data.append(np.load(f'./dataset/Dados_{i+1}.npy', allow_pickle=True))\n",
    "for i in [0,1,2,4]:\n",
    "    for j in range(n_samples):\n",
    "        sensor_data[i][j] = fill_the_gaps(sensor_data[i][j])\n",
    "\n",
    "for j in range(n_samples):\n",
    "    sensor_data[3][j] = np.nan_to_num(sensor_data[3][j], nan=0)"
   ]
  },
  {
   "cell_type": "raw",
   "id": "5f62af42-6b69-4f2e-b370-80abc73e50e4",
   "metadata": {
    "tags": []
   },
   "source": [
    "d_map ={}\n",
    "for ck in classes_k:\n",
    "    d_map[ck] = []\n",
    "    for s in range(n_sensors):\n",
    "        d_map[ck].append(sensor_data[s][(classes==ck).flatten()])"
   ]
  },
  {
   "cell_type": "raw",
   "id": "d204ee01-7ee3-456d-a9d5-4472ede02207",
   "metadata": {
    "tags": []
   },
   "source": [
    "print(\"Por Classe:\")\n",
    "for ck in classes_k:\n",
    "    for s in range(n_sensors):\n",
    "        print(f'{ck}_s{s}: {np.min(np.min(d_map[ck][s]))}, {np.max(np.max(d_map[ck][s]))}')\n",
    "    print('\\n')\n",
    "print(\"Por Sensor:\")\n",
    "for i, s in enumerate(sensor_data):\n",
    "    print(f\"s{i}\", np.min(np.min(s)), np.max(np.max(s)))\n"
   ]
  },
  {
   "cell_type": "markdown",
   "id": "42f2c072-ca59-4a5c-af56-0d0c30eff543",
   "metadata": {},
   "source": [
    "* Os ranges por classe não apresentam muita informação útil\n",
    "* Por sensor, parece ser possível considerar alguns limites:\n",
    "    * s0, s1 e s2: [-2.0, 5.0]\n",
    "    * s3: nan ou 50.0\n",
    "    * s4 -20., 140.\n",
    "    \n",
    "    "
   ]
  },
  {
   "cell_type": "raw",
   "id": "31a0ff98-d9ed-418a-90a9-a52786aae17a",
   "metadata": {},
   "source": [
    "fig = plt.subplots(figsize=(16, 5))\n",
    "plt.plot(sensor_data[0][1], color='blue')\n",
    "plt.plot(sensor_data[1][1], color='black')\n",
    "plt.plot(sensor_data[2][1], color='green')"
   ]
  },
  {
   "cell_type": "markdown",
   "id": "bbc2ba50-140b-407f-bb05-665080e44f8b",
   "metadata": {},
   "source": [
    "10 KHz\n",
    "200 Samples...\n"
   ]
  },
  {
   "cell_type": "raw",
   "id": "a798d627-3745-4d9a-802a-3bc26a991988",
   "metadata": {},
   "source": [
    "Calcular:\n",
    "RMS, freq, amplitude, fft..."
   ]
  },
  {
   "cell_type": "code",
   "execution_count": 6,
   "id": "ecc92e3c-21cf-4c34-adcf-1581200326e8",
   "metadata": {
    "tags": []
   },
   "outputs": [],
   "source": [
    "def get_RMS(sig, f, n, w):\n",
    "    steps = np.int_(np.floor(n/w))\n",
    "    x_RMS = np.zeros((len(sig),steps)) #Create array for RMS valuess\n",
    "    for i in range (0, steps):\n",
    "        x_RMS[:,i] = np.sqrt(np.mean((sig[:, (i*w):((i+1)*w)]**2), axis=1))\n",
    "    return x_RMS"
   ]
  },
  {
   "cell_type": "code",
   "execution_count": 7,
   "id": "39730ef7-6165-407b-b3fa-c768d532958e",
   "metadata": {
    "tags": []
   },
   "outputs": [],
   "source": [
    "n = np.int(200)#length of the array\n",
    "freq = 10000  #sample rate (10KHz) \n",
    "time = 1/freq;\n",
    "rms_global = []\n",
    "peak = []\n",
    "peak2peak =[]\n",
    "crista = []\n",
    "# rms_w50 =[]\n",
    "\n",
    "for i in [0,1,2]:\n",
    "    rms_global.append(get_RMS(sensor_data[i], freq, n, n))\n",
    "    peak.append(np.max(sensor_data[i], axis=1))\n",
    "    crista.append(peak[i]/rms_global[i][:,0])\n",
    "    peak2peak.append(np.max(sensor_data[i], axis=1)-np.min(sensor_data[i], axis=1))\n",
    "    # rms_w50.append(get_RMS(sensor_data[i], freq, n, 10))\n",
    "\n"
   ]
  },
  {
   "cell_type": "code",
   "execution_count": 8,
   "id": "3fc84afe-d637-4d62-ac52-e1cafc06de1d",
   "metadata": {
    "tags": []
   },
   "outputs": [],
   "source": [
    "for i in [0,1,2]:\n",
    "    rms_global[i] = (rms_global[i]-np.min(np.min(rms_global[i])))/(np.max(np.max(rms_global[i]))-np.min(np.min(rms_global[i])))\n",
    "    peak[i] = (peak[i]-np.min(np.min(peak[i])))/(np.max(np.max(peak[i]))-np.min(np.min(peak[i])))\n",
    "    crista[i] = (crista[i]-np.min(np.min(crista[i])))/(np.max(np.max(crista[i]))-np.min(np.min(crista[i])))\n",
    "    peak2peak[i] = (peak2peak[i]-np.min(np.min(peak2peak[i])))/(np.max(np.max(peak2peak[i]))-np.min(np.min(peak2peak[i])))"
   ]
  },
  {
   "cell_type": "code",
   "execution_count": 9,
   "id": "0ad9cb41-cd79-4668-865c-594b9a270ea0",
   "metadata": {
    "tags": []
   },
   "outputs": [
    {
     "data": {
      "text/plain": [
       "[<matplotlib.lines.Line2D at 0x7f3d3a1c91d0>]"
      ]
     },
     "execution_count": 9,
     "metadata": {},
     "output_type": "execute_result"
    },
    {
     "data": {
      "image/png": "[encoded data removed]",
      "text/plain": [
       "<Figure size 1600x500 with 1 Axes>"
      ]
     },
     "metadata": {},
     "output_type": "display_data"
    }
   ],
   "source": [
    "fig = plt.subplots(figsize=(16, 5))\n",
    "plt.plot(peak2peak[0][:], color='blue')\n",
    "# print(df.loc[idx]['classe'])"
   ]
  },
  {
   "cell_type": "raw",
   "id": "7988f66b-5946-4707-b653-619f801852d4",
   "metadata": {
    "tags": []
   },
   "source": [
    "d_map ={}\n",
    "for ck in classes_k:\n",
    "    d_map[ck] = []\n",
    "    for r in range(len(rms)):\n",
    "        d_map[ck].append(rms[r][(classes==ck).flatten()])"
   ]
  },
  {
   "cell_type": "markdown",
   "id": "29c276aa-f4cd-4b67-9763-76f1d04d2ce3",
   "metadata": {},
   "source": [
    "# Dos valores de RMS\n",
    "* O RMS dos sensores 0, 1 e 2 parece conter alguma informação relevante para diferenciar algumas classes\n",
    "* o RMS do sensor 4 sem window parece ser uma informação inútil\n",
    "    * Será que o RMS por window contem alguma info mais interessante?"
   ]
  },
  {
   "cell_type": "raw",
   "id": "03fe2671-6105-4ec7-b531-4d2595397406",
   "metadata": {
    "tags": []
   },
   "source": [
    "fig = plt.subplots(figsize=(4, 3))\n",
    "plt.boxplot([d_map[ck][0][:].flatten() for ck in classes_k], showfliers=False)\n",
    "plt.show()\n",
    "fig = plt.subplots(figsize=(4, 3))\n",
    "plt.boxplot([d_map[ck][1][:].flatten() for ck in classes_k], showfliers=False)\n",
    "plt.show()\n",
    "fig = plt.subplots(figsize=(4, 3))\n",
    "plt.boxplot([d_map[ck][2][:].flatten() for ck in classes_k], showfliers=False)\n",
    "plt.show()\n",
    "fig = plt.subplots(figsize=(4, 3))\n",
    "plt.boxplot([d_map[ck][3][:].flatten() for ck in classes_k], showfliers=False)\n",
    "plt.show()"
   ]
  },
  {
   "cell_type": "code",
   "execution_count": 10,
   "id": "7d174b28-e213-4a82-a5cb-3daf9fe414bb",
   "metadata": {
    "tags": []
   },
   "outputs": [],
   "source": [
    "from scipy.fftpack import fft\n",
    "def apply_fft(sig, f, n):\n",
    "    xf = np.linspace(0.0, (f/2.0), n//2)\n",
    "    yf = fft(sig[:])\n",
    "    yf = 2.0/n * np.abs(yf[:, :n//2])\n",
    "    return xf, yf"
   ]
  },
  {
   "cell_type": "raw",
   "id": "71cf45c5-3ccf-4247-bc16-5e14077337eb",
   "metadata": {
    "tags": []
   },
   "source": []
  },
  {
   "cell_type": "code",
   "execution_count": 11,
   "id": "ef98a9f4-d238-413f-945f-7b8339dbf233",
   "metadata": {
    "tags": []
   },
   "outputs": [],
   "source": [
    "fft_ys = []\n",
    "for i in [0,1,2, 4]:\n",
    "    xfs, yfs = apply_fft(sensor_data[i], freq, n)\n",
    "    max_v = np.max(np.max(yfs))\n",
    "    \n",
    "    fft_ys.append(yfs/max_v)\n",
    "    xfs = xfs/np.max(xfs)"
   ]
  },
  {
   "cell_type": "code",
   "execution_count": 12,
   "id": "7db47430-a8a5-4010-abea-9562f8a16c99",
   "metadata": {
    "tags": []
   },
   "outputs": [
    {
     "name": "stdout",
     "output_type": "stream",
     "text": [
      "0.0\n",
      "1.0\n",
      "6.41196322239529e-06\n"
     ]
    }
   ],
   "source": [
    "print(xfs.min())\n",
    "print(np.max(np.max(fft_ys[3])))\n",
    "print(np.min(np.min(fft_ys[3])))"
   ]
  },
  {
   "cell_type": "code",
   "execution_count": 13,
   "id": "a06a0857-b4a2-4b2f-849a-b0dffb5e41bb",
   "metadata": {
    "tags": []
   },
   "outputs": [
    {
     "name": "stdout",
     "output_type": "stream",
     "text": [
      "Classe B\n"
     ]
    },
    {
     "data": {
      "text/plain": [
       "<matplotlib.image.AxesImage at 0x7f3d52b0f250>"
      ]
     },
     "execution_count": 13,
     "metadata": {},
     "output_type": "execute_result"
    },
    {
     "data": {
      "image/png": "[encoded data removed]",
      "text/plain": [
       "<Figure size 1600x1000 with 1 Axes>"
      ]
     },
     "metadata": {},
     "output_type": "display_data"
    }
   ],
   "source": [
    "fig = plt.subplots(figsize=(16, 10))\n",
    "idx = 6\n",
    "print(df.loc[idx]['classe'])\n",
    "plt.imshow([fft_ys[0][idx][:],fft_ys[1][idx][:],fft_ys[2][idx][:]], cmap='hot')"
   ]
  },
  {
   "cell_type": "code",
   "execution_count": 14,
   "id": "d8412db6-1540-4f4e-ad08-9b6291cdfbf4",
   "metadata": {
    "tags": []
   },
   "outputs": [
    {
     "name": "stdout",
     "output_type": "stream",
     "text": [
      "Classe D\n"
     ]
    },
    {
     "data": {
      "text/plain": [
       "<matplotlib.image.AxesImage at 0x7f3d3a16e110>"
      ]
     },
     "execution_count": 14,
     "metadata": {},
     "output_type": "execute_result"
    },
    {
     "data": {
      "image/png": "[encoded data removed]",
      "text/plain": [
       "<Figure size 1600x1000 with 1 Axes>"
      ]
     },
     "metadata": {},
     "output_type": "display_data"
    }
   ],
   "source": [
    "fig = plt.subplots(figsize=(16, 10))\n",
    "idx = 10000\n",
    "print(df.loc[idx]['classe'])\n",
    "plt.imshow([fft_ys[0][idx][:],fft_ys[1][idx][:],fft_ys[2][idx][:],fft_ys[3][idx][:]], cmap='hot')"
   ]
  },
  {
   "cell_type": "raw",
   "id": "46236f0e-f495-45ff-a2b9-ae7173991568",
   "metadata": {
    "tags": []
   },
   "source": [
    "fig = plt.subplots(figsize=(3, 5))\n",
    "idx = 4\n",
    "print(df.loc[idx]['classe'])\n",
    "plt.plot(fft_ys[0][idx], color='blue')\n",
    "plt.plot(fft_ys[1][idx], color='black')\n",
    "plt.plot(fft_ys[2][idx], color='green')"
   ]
  },
  {
   "cell_type": "raw",
   "id": "8bad4345-e799-43a6-b516-86398928860a",
   "metadata": {
    "tags": []
   },
   "source": [
    "fig = plt.subplots(figsize=(3, 5))\n",
    "idx = 7\n",
    "print(df.loc[idx]['classe'])\n",
    "plt.plot([i for i in range(100)], fft_ys[0][idx], color='blue')\n",
    "plt.plot([i for i in range(100)], fft_ys[1][idx], color='black')\n",
    "plt.plot([i for i in range(100)], fft_ys[2][idx], color='green')"
   ]
  },
  {
   "cell_type": "raw",
   "id": "6effbcb6-0739-4b6c-ba76-02d6d8f45e86",
   "metadata": {
    "tags": []
   },
   "source": [
    "peak10_amp = np.zeros([len(fft_ys), 50000, 10])\n",
    "peak10_freq = np.zeros([len(fft_ys), 50000, 10])"
   ]
  },
  {
   "cell_type": "raw",
   "id": "16337f45-1215-4679-91c2-820cf02439e0",
   "metadata": {
    "tags": []
   },
   "source": [
    "for s in range(len(fft_ys)):\n",
    "    for i in range(50000):\n",
    "        c = np.rec.fromarrays([fft_ys[s][i], xfs])\n",
    "        c.sort()\n",
    "        tmp = c[::-1][:10]\n",
    "        p10_a = tmp.f0\n",
    "        p10_f = tmp.f1\n",
    "        for p in range(10):\n",
    "            peak10_amp[s][i][:] = p10_a[:]\n",
    "            peak10_freq[s][i][:] = p10_f[:]"
   ]
  },
  {
   "cell_type": "code",
   "execution_count": 15,
   "id": "c0167caa-caa8-4d11-8618-25a105c69b62",
   "metadata": {
    "tags": []
   },
   "outputs": [],
   "source": [
    "schema={'Classe': 'string'}\n",
    "for s in range(3):\n",
    "    schema[f's{s}_RMS'] = 'float64'\n",
    "    schema[f's{s}_peak'] = 'float64'\n",
    "    schema[f's{s}_peak2peak'] = 'float64'\n",
    "    schema[f's{s}_crista'] = 'float64'\n",
    "for s in range(3):\n",
    "    for idx in range(100):\n",
    "        schema[f's{s}_amp_{idx}'] = 'float64'\n",
    "        \n",
    "df = pd.DataFrame(columns=schema.keys()).astype(schema)"
   ]
  },
  {
   "cell_type": "code",
   "execution_count": 18,
   "id": "d5309682-8880-4308-b5c8-3ceb4eea8377",
   "metadata": {
    "tags": []
   },
   "outputs": [
    {
     "data": {
      "application/json": {
       "ascii": false,
       "bar_format": null,
       "colour": null,
       "elapsed": 0.011596202850341797,
       "initial": 0,
       "n": 0,
       "ncols": null,
       "nrows": 50,
       "postfix": null,
       "prefix": "",
       "rate": null,
       "total": 50000,
       "unit": "it",
       "unit_divisor": 1000,
       "unit_scale": false
      },
      "application/vnd.jupyter.widget-view+json": {
       "model_id": "999b14079f4943df97f50a0d8bc2f70c",
       "version_major": 2,
       "version_minor": 0
      },
      "text/plain": [
       "  0%|          | 0/50000 [00:00<?, ?it/s]"
      ]
     },
     "metadata": {},
     "output_type": "display_data"
    }
   ],
   "source": [
    "for idx in tqdm(range(50000)):\n",
    "    f_map = {}\n",
    "    f_map['Classe'] = classes[idx][0]\n",
    "\n",
    "    for s in range(3):\n",
    "        f_map[f's{s}_RMS'] = rms_global[s][idx]\n",
    "        f_map[f's{s}_peak'] = peak[s][idx]\n",
    "        f_map[f's{s}_peak2peak'] = peak2peak[s][idx]\n",
    "        f_map[f's{s}_crista'] = crista[s][idx]\n",
    "\n",
    "    for s in range(3):\n",
    "        for i in range(100):\n",
    "            f_map[f's{s}_amp_{i}'] = fft_ys[s][idx][i]\n",
    "            # f_map[f's{s}_freq10_{i}'] = peak10_freq[s][idx][i]\n",
    "    df.loc[len(df)] = f_map"
   ]
  },
  {
   "cell_type": "code",
   "execution_count": 19,
   "id": "355a9788-0b66-4033-8107-2ed28ef1336d",
   "metadata": {
    "tags": []
   },
   "outputs": [],
   "source": [
    "df.to_csv(\"./features_norm.csv\", sep=',', index=False, encoding='utf-8')"
   ]
  },
  {
   "cell_type": "raw",
   "id": "d4de67c3-e75d-47f0-ae25-7c97c3353dd9",
   "metadata": {},
   "source": [
    "fig = plt.subplots(figsize=(16, 10))\n",
    "# plt.plot(xfs,yfs[11], color='blue')\n",
    "fig = plt.subplots(figsize=(16, 10))\n",
    "plt.imshow(d_map[\"Classe B\"][:100], cmap='hot')\n",
    "fig = plt.subplots(figsize=(16, 10))\n",
    "plt.imshow(d_map[\"Classe C\"][:100], cmap='hot')\n",
    "fig = plt.subplots(figsize=(16, 10))\n",
    "plt.imshow(d_map[\"Classe D\"][:100], cmap='hot')\n",
    "fig = plt.subplots(figsize=(16, 10))\n",
    "plt.imshow(d_map[\"Classe E\"][:100], cmap='hot')\n",
    "# plt.plot(sensor_data[1][1], color='black')\n",
    "# plt.plot(sensor_data[2][1], color='green')"
   ]
  }
 ],
 "metadata": {
  "kernelspec": {
   "display_name": "Python 3 (ipykernel)",
   "language": "python",
   "name": "python3"
  },
  "language_info": {
   "codemirror_mode": {
    "name": "ipython",
    "version": 3
   },
   "file_extension": ".py",
   "mimetype": "text/x-python",
   "name": "python",
   "nbconvert_exporter": "python",
   "pygments_lexer": "ipython3",
   "version": "3.7.10"
  }
 },
 "nbformat": 4,
 "nbformat_minor": 5
}
